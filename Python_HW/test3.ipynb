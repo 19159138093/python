{
 "cells": [
  {
   "cell_type": "code",
   "execution_count": 1,
   "metadata": {},
   "outputs": [
    {
     "ename": "SyntaxError",
     "evalue": "invalid syntax (<string>, line 0)",
     "output_type": "error",
     "traceback": [
      "Traceback \u001B[1;36m(most recent call last)\u001B[0m:\n",
      "\u001B[0m  File \u001B[0;32m~\\AppData\\Roaming\\Python\\Python310\\site-packages\\IPython\\core\\interactiveshell.py:3378\u001B[0m in \u001B[0;35mrun_code\u001B[0m\n    exec(code_obj, self.user_global_ns, self.user_ns)\u001B[0m\n",
      "\u001B[1;36m  Cell \u001B[1;32mIn [1], line 21\u001B[1;36m\n\u001B[1;33m    l = eval(input())\u001B[1;36m\n",
      "\u001B[1;36m  File \u001B[1;32m<string>\u001B[1;36m\u001B[0m\n\u001B[1;33m    \u001B[0m\n\u001B[1;37m    ^\u001B[0m\n\u001B[1;31mSyntaxError\u001B[0m\u001B[1;31m:\u001B[0m invalid syntax\n"
     ]
    }
   ],
   "source": [
    "import re\n",
    "\n",
    "def count_len(l):\n",
    "    m = re.split('\\.| |\\n',s)\n",
    "    n = []\n",
    "    num = 0\n",
    "    for x in m:\n",
    "        if x:\n",
    "            n.append(x)\n",
    "    for x in n:\n",
    "        if len(x) == l:\n",
    "            num +=1\n",
    "    return num\n",
    "\n",
    "s = '''\n",
    "    Beautiful is better than ugly.\n",
    "    Explicit is better than implicit.\n",
    "    Simple is better than complex.\n",
    "    Sparse is better than dense.\n",
    "    '''\n",
    "l = eval(input())\n",
    "print(count_len(l))"
   ]
  },
  {
   "cell_type": "code",
   "execution_count": 1,
   "metadata": {},
   "outputs": [
    {
     "name": "stdout",
     "output_type": "stream",
     "text": [
      "grongxian\n"
     ]
    }
   ],
   "source": [
    "#定义函数shift(s, flag, n)，将传入的字符串s按照flag（‘L’代表循环左移，'R'代表循环右移）的要求左移或右移n位，\n",
    "# 返回移位后的字符串，若n超过字符串长度或flag值非‘L’或'R'则返回-1。 \n",
    "def shift(s, flag, n):\n",
    "    # write your code here...\n",
    "    if len(s)<n or flag != 'L' and flag != 'R':\n",
    "        return -1\n",
    "    if flag == 'L':\n",
    "        return s[n:] + s[:n]\n",
    "    else:\n",
    "        return s[-n:]+ s[:-n] \n",
    "\n",
    "if __name__ == \"__main__\":\n",
    "    s = input()\n",
    "    flag, n = input().split(',')\n",
    "    result = shift(s, flag, int(n))\n",
    "    print(result)"
   ]
  },
  {
   "cell_type": "code",
   "execution_count": 66,
   "metadata": {},
   "outputs": [
    {
     "name": "stdout",
     "output_type": "stream",
     "text": [
      "Ruodibilaty caents.\n"
     ]
    }
   ],
   "source": [
    "x = ['a','e','i','o','u','A','E','I','O','U']\n",
    "def reverse_vowels(s):\n",
    "    m = []\n",
    "    n = -1\n",
    "    for i in s:\n",
    "        if i in x:\n",
    "            m.append(i)\n",
    "    for i in range(len(s)):\n",
    "        if s[i] in x:\n",
    "            s = s[:i]+m[n]+s[i+1:]\n",
    "            n -= 1\n",
    "    return s\n",
    "\n",
    "print(reverse_vowels(input()))"
   ]
  },
  {
   "cell_type": "code",
   "execution_count": 73,
   "metadata": {},
   "outputs": [
    {
     "name": "stdout",
     "output_type": "stream",
     "text": [
      "Aqwt pggf Ravjqp.\n"
     ]
    }
   ],
   "source": [
    "def caesar(plain_text, shift_num=1):\n",
    "    # write your code here...\n",
    "    num = shift_num\n",
    "    s = plain_text\n",
    "    for i in range(len(s)):\n",
    "        if 'a' <= s[i] and s[i] <= 'z':\n",
    "            a = (ord(s[i])+num-97)%26+97\n",
    "            s = s[:i] + chr(a) +s[i+1:]\n",
    "        elif 'A' <= s[i] and s[i] <= 'Z':\n",
    "            a = (ord(s[i])+num-65)%26+65\n",
    "            s = s[:i] + chr(a) +s[i+1:]\n",
    "    return s\n",
    "\n",
    "text = input()\n",
    "shift_num = eval(input())\n",
    "print(caesar(text, shift_num))"
   ]
  },
  {
   "cell_type": "code",
   "execution_count": 77,
   "metadata": {},
   "outputs": [
    {
     "name": "stdout",
     "output_type": "stream",
     "text": [
      "310112198504095227\n"
     ]
    }
   ],
   "source": [
    "#7－12位出生年月日，比如850409代表1985年4月9日，\n",
    "num = input()\n",
    "if int(num[6:8]) > 4:\n",
    "    num = num[:6]+'19'+num[6:]\n",
    "else:\n",
    "    num = num[:6]+'20'+num[6:]\n",
    "wi=[7, 9, 10, 5, 8, 4, 2, 1, 6, 3, 7, 9, 10, 5, 8, 4, 2]\n",
    "t = ['1', '0', 'X', '9', '8', '7', '6', '5', '4', '3', '2']\n",
    "s = 0\n",
    "for i in range(17):\n",
    "    s = s + wi[i] * int(num[i])\n",
    "print(num+t[s%11])"
   ]
  }
 ],
 "metadata": {
  "kernelspec": {
   "display_name": "Python 3.10.2 64-bit",
   "language": "python",
   "name": "python3"
  },
  "language_info": {
   "codemirror_mode": {
    "name": "ipython",
    "version": 3
   },
   "file_extension": ".py",
   "mimetype": "text/x-python",
   "name": "python",
   "nbconvert_exporter": "python",
   "pygments_lexer": "ipython3",
   "version": "3.10.2"
  },
  "orig_nbformat": 4,
  "vscode": {
   "interpreter": {
    "hash": "cd28e3f04655be0cf2c3c59ecb10ad5a40a38387297ad6d3bb40e21494cdd4b4"
   }
  }
 },
 "nbformat": 4,
 "nbformat_minor": 2
}
