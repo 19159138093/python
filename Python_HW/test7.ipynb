{
 "cells": [
  {
   "cell_type": "code",
   "execution_count": 1,
   "metadata": {},
   "outputs": [
    {
     "ename": "SyntaxError",
     "evalue": "invalid syntax (<string>, line 0)",
     "output_type": "error",
     "traceback": [
      "Traceback \u001B[1;36m(most recent call last)\u001B[0m:\n",
      "\u001B[0m  File \u001B[0;32m~\\AppData\\Roaming\\Python\\Python310\\site-packages\\IPython\\core\\interactiveshell.py:3378\u001B[0m in \u001B[0;35mrun_code\u001B[0m\n    exec(code_obj, self.user_global_ns, self.user_ns)\u001B[0m\n",
      "\u001B[1;36m  Cell \u001B[1;32mIn [1], line 18\u001B[1;36m\n\u001B[1;33m    vals = eval(input())\u001B[1;36m\n",
      "\u001B[1;36m  File \u001B[1;32m<string>\u001B[1;36m\u001B[0m\n\u001B[1;33m    \u001B[0m\n\u001B[1;37m    ^\u001B[0m\n\u001B[1;31mSyntaxError\u001B[0m\u001B[1;31m:\u001B[0m invalid syntax\n"
     ]
    }
   ],
   "source": [
    "# A function that takes in a list of numbers and returns a list of numbers.\n",
    "def my_range(*args): \n",
    "# write your codes here...\n",
    "    n = len(args)\n",
    "    m = []\n",
    "    if n == 1:\n",
    "        for i in range(args[0]):\n",
    "            m.append(i)\n",
    "        return m\n",
    "    elif n == 2:\n",
    "        for i in range(args[0],args[1]):\n",
    "            m.append(i)\n",
    "        return m\n",
    "    elif n == 3:\n",
    "        for i in range(args[0],args[1],args[2]):\n",
    "            m.append(i)\n",
    "        return m\n",
    "vals = eval(input())\n",
    "print(my_range(*vals))"
   ]
  },
  {
   "cell_type": "code",
   "execution_count": null,
   "metadata": {},
   "outputs": [],
   "source": [
    "def choose_function(no):\n",
    "    \"\"\"接收一个字符串为参数，根据参数值判断问题类型，调用合适的函数进行操作。\"\"\"\n",
    "    if no == 'fabs':  # 调用fabs()函数，并输出其返回值\n",
    "        x = eval(input())\n",
    "        print(fabs(x))\n",
    "    elif no == 'fact':  # 调用pow()函数，并输出其返回值\n",
    "        n = eval(input())\n",
    "        print(fact(n))\n",
    "    elif no == 'gcd':  # 调用gcd()函数，并输出其返回值\n",
    "        a, b = eval(input())\n",
    "        print(gcd(a, b))\n",
    "    else:\n",
    "        print('undefined')\n",
    "\n",
    "def fabs(x):\n",
    "    \"\"\"返回x的绝对值\"\"\"\n",
    "    if x < 0:\n",
    "        m = x * -1\n",
    "    else:\n",
    "        m = x\n",
    "    return m\n",
    "def gcd(a, b):\n",
    "    \"\"\"接收两个正整数为参数，返回两个数的最大公约数\"\"\"\n",
    "    if b == 0:\n",
    "        return a\n",
    "    return gcd(b,a%b)\n",
    "\n",
    "def fact(n):\n",
    "    \"\"\"接收一个非负整数n为参数，返回n的阶乘，0的阶乘值为1\"\"\"\n",
    "    m = 1\n",
    "    for i in range(1, n + 1):\n",
    "        m *= i\n",
    "    return m\n",
    "\n",
    "if __name__ == '__main__':\n",
    "    func_name = input()\n",
    "    choose_function(func_name)"
   ]
  }
 ],
 "metadata": {
  "kernelspec": {
   "display_name": "Python 3.10.2 64-bit",
   "language": "python",
   "name": "python3"
  },
  "language_info": {
   "codemirror_mode": {
    "name": "ipython",
    "version": 3
   },
   "file_extension": ".py",
   "mimetype": "text/x-python",
   "name": "python",
   "nbconvert_exporter": "python",
   "pygments_lexer": "ipython3",
   "version": "3.10.2"
  },
  "orig_nbformat": 4,
  "vscode": {
   "interpreter": {
    "hash": "cd28e3f04655be0cf2c3c59ecb10ad5a40a38387297ad6d3bb40e21494cdd4b4"
   }
  }
 },
 "nbformat": 4,
 "nbformat_minor": 2
}
