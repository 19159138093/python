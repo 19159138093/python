{
 "cells": [
  {
   "cell_type": "markdown",
   "source": [
    "编写函数实现敏感词替换：函数sense_words读入源文件source中的英文，将敏感词列表sensitive中出现的英文单词替换为'*'其他单词不变，将替换后的文本输出到文件dest中。"
   ],
   "metadata": {
    "collapsed": false
   }
  },
  {
   "cell_type": "code",
   "execution_count": null,
   "metadata": {
    "collapsed": true
   },
   "outputs": [],
   "source": [
    "from random import seed,sample\n",
    "def sense_words(source,sensitive,dest):\n",
    "    # write your code here...\n",
    "    with open(source,'r') as infile,open(dest,'w') as outfile:\n",
    "        s = infile.read()\n",
    "        for word in sensitive:\n",
    "            if word in s:\n",
    "                s = s.replace(word,'*')\n",
    "        outfile.write(s)\n",
    "sd = input()\n",
    "seed(sd)\n",
    "sensitive=sample(['walk','dove','cannon','banned'],2)\n",
    "sense_words(\"Blowing in the wind.txt\",sensitive,f'filtered{sd}.txt')"
   ]
  },
  {
   "cell_type": "markdown",
   "source": [
    "编写程序实现：从键盘输入整数n。从文件\"in.txt\"中读入n行，将其中以字母A开头的行打印到标准输出（这里指的是屏幕）中。"
   ],
   "metadata": {
    "collapsed": false
   }
  },
  {
   "cell_type": "code",
   "execution_count": null,
   "outputs": [],
   "source": [
    "n_str = input()\n",
    "if not n_str.isdigit():\n",
    "    print(\"illegal input\")\n",
    "else:\n",
    "    n = int(n_str)\n",
    "    with open(\"in.txt\") as in_file:\n",
    "        cnt = 0\n",
    "        for i in range(n):\n",
    "            line = in_file.readline()\n",
    "            if line[0] == 'A':\n",
    "                cnt += 1\n",
    "                print(line)\n",
    "        if cnt == 0:\n",
    "            print(\"not found\")"
   ],
   "metadata": {
    "collapsed": false
   }
  },
  {
   "cell_type": "markdown",
   "source": [
    "文件density.txt存放常见物质的密度，格式如下:\n",
    "Material Density State\n",
    "air    0.001293 gas\n",
    "ice    0.920  solid\n",
    "water  1.0    liquid\n",
    "milk   1.03   liquid\n",
    "...\n",
    "定义函数read_densities(filename)读取文件内容，将每种物质及其密度存放在字典中返回，物质状态（state列）不做处理。"
   ],
   "metadata": {
    "collapsed": false
   }
  },
  {
   "cell_type": "code",
   "execution_count": null,
   "outputs": [],
   "source": [
    "def read_densities(filename):\n",
    "    # with open(filename, 'r') as infile:\n",
    "    infile = open(filename, 'r')\n",
    "    lines = infile.readlines()\n",
    "    infile.close()\n",
    "    densities = {}\n",
    "    for line in lines[1:]:\n",
    "        items = line.split()\n",
    "        densities[items[0]] = eval(items[1])\n",
    "    return densities\n",
    "\n",
    "densities = read_densities(r\"density.txt\")\n",
    "material = input()\n",
    "print(densities.get(material,'unknown'))"
   ],
   "metadata": {
    "collapsed": false
   }
  }
 ],
 "metadata": {
  "kernelspec": {
   "display_name": "Python 3",
   "language": "python",
   "name": "python3"
  },
  "language_info": {
   "codemirror_mode": {
    "name": "ipython",
    "version": 2
   },
   "file_extension": ".py",
   "mimetype": "text/x-python",
   "name": "python",
   "nbconvert_exporter": "python",
   "pygments_lexer": "ipython2",
   "version": "2.7.6"
  }
 },
 "nbformat": 4,
 "nbformat_minor": 0
}
