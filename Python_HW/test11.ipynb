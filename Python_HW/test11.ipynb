{
 "cells": [
  {
   "cell_type": "markdown",
   "source": [
    "使用while循环代替for循环输出字符串中所有英文字符。"
   ],
   "metadata": {
    "collapsed": false
   }
  },
  {
   "cell_type": "code",
   "execution_count": 2,
   "metadata": {
    "collapsed": true
   },
   "outputs": [
    {
     "name": "stdout",
     "output_type": "stream",
     "text": [
      "Simpleisbetter"
     ]
    }
   ],
   "source": [
    "s = input()\n",
    "i = 0\n",
    "while i < len(s):\n",
    "    if ord(s[i]) >= ord('a') and ord(s[i]) <= ord('z') or ord(s[i]) >= ord('A') and ord(s[i]) <= ord('Z'):\n",
    "        print(s[i], end=\"\")\n",
    "    i += 1"
   ]
  },
  {
   "cell_type": "markdown",
   "source": [
    "定义迭代器类Iter5生成所有被5整除的整数序列。"
   ],
   "metadata": {
    "collapsed": false
   }
  },
  {
   "cell_type": "code",
   "execution_count": 9,
   "outputs": [
    {
     "name": "stdout",
     "output_type": "stream",
     "text": [
      "0;5;10;15;"
     ]
    }
   ],
   "source": [
    "class Iter5:\n",
    "    def __init__(self, stop):\n",
    "        self.val = 0\n",
    "        self.stop = stop\n",
    "    def __iter__(self):\n",
    "    # write your code here...\n",
    "        return self\n",
    "    def __next__(self):\n",
    "    # write your code here...\n",
    "        if self.val < self.stop:\n",
    "            cur = self.val\n",
    "            self.val += 5\n",
    "            return cur\n",
    "        else:\n",
    "            raise StopIteration\n",
    "\n",
    "if __name__=='__main__':\n",
    "    stop = eval(input())\n",
    "    it = Iter5(stop)\n",
    "    for val in it:\n",
    "        print(val,end=';')"
   ],
   "metadata": {
    "collapsed": false
   }
  },
  {
   "cell_type": "markdown",
   "source": [
    "输入正整数N，定义生成器函数返回整数1~N的平方。"
   ],
   "metadata": {
    "collapsed": false
   }
  },
  {
   "cell_type": "code",
   "execution_count": 3,
   "outputs": [
    {
     "name": "stdout",
     "output_type": "stream",
     "text": [
      "[1, 4, 9, 16, 25]\n"
     ]
    }
   ],
   "source": [
    "def pinfang(n):\n",
    "    for x in range(1,n+1):\n",
    "        yield x**2\n",
    "n = int(input())\n",
    "print(list(pinfang(n)))"
   ],
   "metadata": {
    "collapsed": false
   }
  },
  {
   "cell_type": "markdown",
   "source": [
    "定义生成器函数fibs(n) 生成Fibnacci数列的前 n项。\n",
    "Fibnacci数列为0, 1, 1, 2, 3, 5, 8, 13, 21, 34, ...，即由前两项和生成当前项。"
   ],
   "metadata": {
    "collapsed": false
   }
  },
  {
   "cell_type": "code",
   "execution_count": 13,
   "outputs": [
    {
     "name": "stdout",
     "output_type": "stream",
     "text": [
      "[0, 1, 1, 2, 3]\n"
     ]
    }
   ],
   "source": [
    "def fibs(n):\n",
    "##### write your codes here ...\n",
    "    a = 1\n",
    "    b = 0\n",
    "    m = 0\n",
    "    for x in range(n):\n",
    "        m = a + b\n",
    "        a = b\n",
    "        b = m\n",
    "        yield a\n",
    "n = eval(input())\n",
    "print(list(fibs(n)))"
   ],
   "metadata": {
    "collapsed": false
   }
  },
  {
   "cell_type": "markdown",
   "source": [
    "定义生成器函数index_iter查找字符串中每个单词首字母的下标。"
   ],
   "metadata": {
    "collapsed": false
   }
  },
  {
   "cell_type": "code",
   "execution_count": 1,
   "outputs": [
    {
     "name": "stdout",
     "output_type": "stream",
     "text": [
      "[0, 7, 10, 17, 22]\n"
     ]
    }
   ],
   "source": [
    "def isDaXie(c):\n",
    "    return ord(c) >= ord('A') and ord(c) <= ord('Z')\n",
    "def index_iter(text):\n",
    "    # write your code here...\n",
    "    for x in range(len(text)):\n",
    "        if isDaXie(text[x]) or text[x-1] == ' ':\n",
    "            yield x\n",
    "s = input()\n",
    "indices = index_iter(s)\n",
    "print(list(indices))"
   ],
   "metadata": {
    "collapsed": false
   }
  },
  {
   "cell_type": "markdown",
   "source": [
    "定义生成器函数palindromes(m, n)返回m-n范围内的所有回文数字。"
   ],
   "metadata": {
    "collapsed": false
   }
  },
  {
   "cell_type": "code",
   "execution_count": 5,
   "outputs": [
    {
     "name": "stdout",
     "output_type": "stream",
     "text": [
      "[909, 919, 929, 939, 949, 959, 969, 979, 989, 999]\n"
     ]
    }
   ],
   "source": [
    "def ishw(s):\n",
    "    for x in range(int(len(s)/2)):\n",
    "        if s[x] != s[-x-1]:\n",
    "            return False\n",
    "    return True\n",
    "def palindromes(m,n):\n",
    "    # write your code here...\n",
    "    for x in range(m,n):\n",
    "        if ishw(str(x)):\n",
    "            yield x\n",
    "m, n = eval(input())\n",
    "print(list(palindromes(m,n)))"
   ],
   "metadata": {
    "collapsed": false
   }
  }
 ],
 "metadata": {
  "kernelspec": {
   "display_name": "Python 3",
   "language": "python",
   "name": "python3"
  },
  "language_info": {
   "codemirror_mode": {
    "name": "ipython",
    "version": 2
   },
   "file_extension": ".py",
   "mimetype": "text/x-python",
   "name": "python",
   "nbconvert_exporter": "python",
   "pygments_lexer": "ipython2",
   "version": "2.7.6"
  }
 },
 "nbformat": 4,
 "nbformat_minor": 0
}
