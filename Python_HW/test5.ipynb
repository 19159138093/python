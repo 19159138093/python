{
 "cells": [
  {
   "cell_type": "code",
   "execution_count": null,
   "metadata": {},
   "outputs": [],
   "source": [
    "ls = eval(input())\n",
    "m = []\n",
    "for x in ls[::2]:\n",
    "    m.append(x)\n",
    "m.sort()\n",
    "for i in range(len(m)):\n",
    "    ls[2*i] = m[i]\n",
    "print(ls)"
   ]
  },
  {
   "cell_type": "code",
   "execution_count": null,
   "metadata": {},
   "outputs": [],
   "source": [
    "n,m = map(int,input().split(','))\n",
    "num = 0\n",
    "for i in range(1,n):\n",
    "    for j in range(i+1,n+1):\n",
    "        if m % (i+j) == 0:\n",
    "            num += 1\n",
    "print(num)"
   ]
  },
  {
   "cell_type": "code",
   "execution_count": 2,
   "metadata": {},
   "outputs": [
    {
     "name": "stdout",
     "output_type": "stream",
     "text": [
      "119\n"
     ]
    }
   ],
   "source": [
    "def countlevels():  \n",
    "    #write your code here...\n",
    "    n = 0\n",
    "    while 1:\n",
    "        if n % 2 == 1 and n % 3 == 2 and n % 5 == 4 and n % 6 == 5 and n % 7 == 0:\n",
    "            break\n",
    "        n += 1\n",
    "    return n\n",
    "print(countlevels())"
   ]
  },
  {
   "cell_type": "code",
   "execution_count": null,
   "metadata": {},
   "outputs": [],
   "source": [
    "def max2(x):  \n",
    "    # write your code here...\n",
    "    n = sorted(x)\n",
    "    return (n[-2],n[-1])\n",
    "    \n",
    "\n",
    "ls = eval(input())\n",
    "print(max2(ls))"
   ]
  },
  {
   "cell_type": "code",
   "execution_count": null,
   "metadata": {},
   "outputs": [],
   "source": [
    "def feb_sum(n):\n",
    "    # write your code here...\n",
    "    sum = 0\n",
    "    j = 1\n",
    "    k = 2\n",
    "    m = 0\n",
    "    for i in range(n):\n",
    "        sum += k/j\n",
    "        m = j + k\n",
    "        j = k\n",
    "        k = m\n",
    "    return sum\n",
    "    \n",
    "n = int(input())\n",
    "result = feb_sum(n)\n",
    "print(f'{result:.2f}')"
   ]
  },
  {
   "cell_type": "code",
   "execution_count": null,
   "metadata": {},
   "outputs": [],
   "source": [
    "n = []\n",
    "m = input().split()\n",
    "a = 0\n",
    "for x in m:\n",
    "    n .append(list(x))\n",
    "    if len(x) > a:\n",
    "        a = len(x)\n",
    "for x in range(len(n)):\n",
    "    n[x] += [\" \"] * (a- len(n[x]))\n",
    "n1 = list(zip(* n[::-1]))\n",
    "for x in range(len(n1)):\n",
    "    print('┊ '+' ┊ '.join(n1[x])+' ┊')\n"
   ]
  }
 ],
 "metadata": {
  "kernelspec": {
   "display_name": "Python 3.10.2 64-bit",
   "language": "python",
   "name": "python3"
  },
  "language_info": {
   "codemirror_mode": {
    "name": "ipython",
    "version": 3
   },
   "file_extension": ".py",
   "mimetype": "text/x-python",
   "name": "python",
   "nbconvert_exporter": "python",
   "pygments_lexer": "ipython3",
   "version": "3.10.2"
  },
  "orig_nbformat": 4,
  "vscode": {
   "interpreter": {
    "hash": "cd28e3f04655be0cf2c3c59ecb10ad5a40a38387297ad6d3bb40e21494cdd4b4"
   }
  }
 },
 "nbformat": 4,
 "nbformat_minor": 2
}
