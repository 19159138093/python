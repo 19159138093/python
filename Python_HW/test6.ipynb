{
 "cells": [
  {
   "cell_type": "code",
   "execution_count": 2,
   "metadata": {},
   "outputs": [
    {
     "name": "stdout",
     "output_type": "stream",
     "text": [
      "{}\n"
     ]
    }
   ],
   "source": [
    "s = input().lower()\n",
    "s1 = list(s)\n",
    "dic = {}\n",
    "for x in s1:\n",
    "    if ord(x) >= ord('a') and ord(x) <= ord('z'):\n",
    "        dic[x] = dic.get(x,0) + 1\n",
    "print(dic)"
   ]
  },
  {
   "cell_type": "code",
   "execution_count": 15,
   "metadata": {},
   "outputs": [
    {
     "data": {
      "application/javascript": "\n        if (window._pyforest_update_imports_cell) { window._pyforest_update_imports_cell('import re'); }\n    ",
      "text/plain": [
       "<IPython.core.display.Javascript object>"
      ]
     },
     "metadata": {},
     "output_type": "display_data"
    },
    {
     "name": "stdout",
     "output_type": "stream",
     "text": [
      "['scream']\n"
     ]
    }
   ],
   "source": [
    "s = input().lower()\n",
    "s1 = re.split('\\.|\\,| |\\n',s)\n",
    "dic = {}\n",
    "for x in s1:\n",
    "    if not x == '':\n",
    "        dic[x] = dic.get(x,0) + 1\n",
    "a = max(dic.values())\n",
    "h = list(filter(lambda x:dic[x] == a, dic))\n",
    "print(sorted(h))"
   ]
  },
  {
   "cell_type": "code",
   "execution_count": 13,
   "metadata": {},
   "outputs": [
    {
     "name": "stdout",
     "output_type": "stream",
     "text": [
      "5\n"
     ]
    }
   ],
   "source": [
    "m = eval(input())\n",
    "n = eval(input())\n",
    "s = sorted(list(m),reverse=True)\n",
    "print(s[n-1])"
   ]
  },
  {
   "cell_type": "code",
   "execution_count": 25,
   "metadata": {},
   "outputs": [
    {
     "name": "stdout",
     "output_type": "stream",
     "text": [
      "{'e': 6, 'r': 5, 'c': 5, 'a': 5, 'm': 4}\n"
     ]
    }
   ],
   "source": [
    "s = input().lower()\n",
    "dic = {}\n",
    "for x in s:\n",
    "    if ord(x) >= ord('a') and ord(x) <= ord('z'):\n",
    "        dic[x] = dic.get(x,0) + 1\n",
    "ndic = {k:v for k,v in dic.items() if v >3}\n",
    "print(dict(sorted(ndic.items(), key = lambda kv:(kv[1], kv[0]),reverse=True)))"
   ]
  },
  {
   "cell_type": "code",
   "execution_count": 48,
   "metadata": {},
   "outputs": [
    {
     "name": "stdout",
     "output_type": "stream",
     "text": [
      "{'Gfg': 3, 'best': 10, 'for': 6, 'is': 7}\n"
     ]
    }
   ],
   "source": [
    "import operator\n",
    "dic = eval(input())\n",
    "ndic = {k:v for k,v in dic.items() if isinstance(v,int)}\n",
    "print(dict(sorted(ndic.items(), key=operator.itemgetter(0), reverse=False)))"
   ]
  },
  {
   "cell_type": "code",
   "execution_count": 46,
   "metadata": {},
   "outputs": [
    {
     "name": "stdout",
     "output_type": "stream",
     "text": [
      "{'斧子': 600, '钢卷尺': 500, '手工锯': 400, '钉枪': 250}\n"
     ]
    }
   ],
   "source": [
    "dic1 = eval(input())\n",
    "dic2 = eval(input())\n",
    "for x in dic1:\n",
    "    if x in dic2:\n",
    "        dic1[x] = dic1.get(x) + dic2.get(x)\n",
    "for x in dic2:\n",
    "    if not x in dic1:\n",
    "        dic1[x] = dic2.get(x)\n",
    "print(dict(sorted(dic1.items(), key = lambda kv:(kv[1], kv[0]),reverse=True)))"
   ]
  }
 ],
 "metadata": {
  "kernelspec": {
   "display_name": "Python 3.10.2 64-bit",
   "language": "python",
   "name": "python3"
  },
  "language_info": {
   "codemirror_mode": {
    "name": "ipython",
    "version": 3
   },
   "file_extension": ".py",
   "mimetype": "text/x-python",
   "name": "python",
   "nbconvert_exporter": "python",
   "pygments_lexer": "ipython3",
   "version": "3.10.2"
  },
  "orig_nbformat": 4,
  "vscode": {
   "interpreter": {
    "hash": "cd28e3f04655be0cf2c3c59ecb10ad5a40a38387297ad6d3bb40e21494cdd4b4"
   }
  }
 },
 "nbformat": 4,
 "nbformat_minor": 2
}
