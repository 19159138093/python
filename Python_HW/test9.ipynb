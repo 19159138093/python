{
 "cells": [
  {
   "cell_type": "markdown",
   "source": [],
   "metadata": {
    "collapsed": false
   }
  },
  {
   "cell_type": "markdown",
   "source": [
    "定义Point类表示二维平面上的点，x、y分别表示横纵坐标，count统计生成点的数量。方法如下:__init__方法初始化点的横纵坐标，is_first_quadrant判断点是否在第一象限，distance方法计算两个点之间的距离，__str__给出点的字符串表示。"
   ],
   "metadata": {
    "collapsed": false
   }
  },
  {
   "cell_type": "code",
   "execution_count": null,
   "metadata": {
    "collapsed": true
   },
   "outputs": [],
   "source": [
    "from math import sqrt\n",
    "\n",
    "class Point:\n",
    "    count = 0\n",
    "    def __init__(self, x=0, y=0):\n",
    "    ## write your codes here...\n",
    "        self.x = x\n",
    "        self.y = y\n",
    "        Point.count += 1\n",
    "    def is_first_quadrant(self):\n",
    "    ## write your codes here...\n",
    "        if self.x > 0 and self.y > 0:\n",
    "            return True\n",
    "        else:\n",
    "            return False\n",
    "    def __eq__(self,other):\n",
    "    ## write your codes here...\n",
    "        return self.x == other.x and self.y == other.y\n",
    "    def __str__(self):\n",
    "    ## write your codes here...\n",
    "        return f\"({self.x},{self.y})\"\n",
    "    def distance(self, other):\n",
    "## write your codes here...\n",
    "        return sqrt((self.x -other.x)**2 + (self.y-other.y)**2)\n",
    "\n",
    "p1 = Point(0,0)\n",
    "p2 = Point(3,4)\n",
    "print(Point.count)\n",
    "print(p2) ##输出(3,4)\n",
    "print(p2.is_first_quadrant())##输出True\n",
    "print(p1==p2) ##输出False\n",
    "print(p1.distance(p2)) ##输出5.0"
   ]
  },
  {
   "cell_type": "markdown",
   "source": [
    "定义线段类Line，用Point类（见编程模板）的实例表示两个端点，定义求点的长度的方法length和求斜率的方法slope。\n",
    "测试代码输入两个点的坐标，输出线段的长度和斜率。\n",
    "注：若斜率不存在返回无穷大数float('inf')"
   ],
   "metadata": {
    "collapsed": false
   }
  },
  {
   "cell_type": "code",
   "execution_count": null,
   "outputs": [],
   "source": [
    "class Point:\n",
    "    def __init__(self, px=0, py=0):\n",
    "        self.x = px\n",
    "        self.y = py\n",
    "\n",
    "    def distance(self,other):\n",
    "        return ((self.x-other.x)**2+(self.y-other.y)**2)**(1/2)\n",
    "\n",
    "    def __str__(self):\n",
    "        return f'({self.x},{self.y})'\n",
    "\n",
    "class Line:\n",
    "# write your code here...\n",
    "    def __init__(self,p,q):\n",
    "        self.p = p\n",
    "        self.q = q\n",
    "\n",
    "    def length(self):\n",
    "        return self.p.distance(self.q)\n",
    "\n",
    "    def slope(self):\n",
    "        return (self.q.y-self.p.y)/(self.q.x-self.p.x) if self.q.x-self.p.x else float('inf')\n",
    "\n",
    "x1, y1 = map(int, input().split(','))\n",
    "x2, y2 = map(int, input().split(','))\n",
    "p, q = Point(x1, y1), Point(x2, y2)\n",
    "l = Line(p,q)\n",
    "print(f'{l.length():.2f}')\n",
    "print(f'{l.slope():.2f}')"
   ],
   "metadata": {
    "collapsed": false
   }
  },
  {
   "cell_type": "markdown",
   "source": [
    "定义ColorPoint类继承自Point类，增加属性rgb描述点的颜色。请补充定义__init__方法完成初始化，__str__给出点的字符串表示。"
   ],
   "metadata": {
    "collapsed": false
   }
  },
  {
   "cell_type": "code",
   "execution_count": null,
   "outputs": [],
   "source": [
    "class Point:\n",
    "    def __init__(self, x=0, y=0):\n",
    "        self.x = x\n",
    "        self.y = y\n",
    "    def __str__(self):\n",
    "        return f\"({self.x}, {self.y})\"\n",
    "\n",
    "class ColorPoint(Point):\n",
    "    def __init__(self,x,y,rgb):\n",
    "    # write your code here...\n",
    "        super().__init__(x,y)\n",
    "        self.rgb = rgb\n",
    "    def __str__(self): # (1,2)\n",
    "    # write your code here...\n",
    "        return super().__str__() + f\"\\ncolor:{self.rgb}\"\n",
    "\n",
    "if __name__ =='__main__': # point\n",
    "    cp = ColorPoint(1,2,[0,0,0])\n",
    "    print(cp)"
   ],
   "metadata": {
    "collapsed": false
   }
  },
  {
   "cell_type": "markdown",
   "source": [
    "增加实例方法deposit()和withdraw()分别实现存款和取款功能，确保withdraw()不会超出余额；add_interest()用于给余额增加利息（利息即为利率乘以余额）。\n",
    "定义BankAccount类的子类CreditAccount表示信用账户，每个CreditAccount均有5000的信用额度。为该类定义构造方法并重写父类的withdraw方法以保证用户可以在信用额度内超支。\n",
    "上述定义的所有方法均返回操作后的余额，取款不成功返回取款前余额。"
   ],
   "metadata": {
    "collapsed": false
   }
  },
  {
   "cell_type": "code",
   "execution_count": 2,
   "outputs": [
    {
     "name": "stdout",
     "output_type": "stream",
     "text": [
      "2500.0\n",
      "3500.0\n",
      "3500.0\n",
      "-3000.0\n"
     ]
    }
   ],
   "source": [
    "class BankAccount(object):\n",
    "    interest_rate = 0.25\n",
    "    def __init__(self, name, number, balance):\n",
    "        self.name = name\n",
    "        self.number = number\n",
    "        self.balance = balance\n",
    "    def deposit(self, amount):\n",
    "    # write your code here...\n",
    "        self.balance += amount\n",
    "        return self.balance\n",
    "    def withdraw(self, amount):\n",
    "    # write your code here...\n",
    "        if self.balance > amount:\n",
    "            self.balance -= amount\n",
    "        return self.balance\n",
    "    def add_interest(self):\n",
    "# write your code here...\n",
    "        self.balance = self.balance +  self.interest_rate * self.balance\n",
    "        return self.balance\n",
    "class CreditAccount(BankAccount):\n",
    "    overdraft = 5000\n",
    "    def __init__(self, name, number, balance):\n",
    "    # write your code here...\n",
    "        self.name = name\n",
    "        self.number = number\n",
    "        self.balance = balance\n",
    "    def withdraw(self, amount):\n",
    "# write your code here...\n",
    "        if self.balance + 5000> amount:\n",
    "            self.balance -= amount\n",
    "        return self.balance\n",
    "\n",
    "ba = BankAccount('Tom', 1234, 2000)\n",
    "print(f'{ba.add_interest():.1f}')\n",
    "print(f'{ba.deposit(1000):.1f}')\n",
    "print(f'{ba.withdraw(5000):.1f}')\n",
    "\n",
    "ca = CreditAccount('John', 4321, 2000)\n",
    "print(f'{ca.withdraw(5000):.1f}')\n"
   ],
   "metadata": {
    "collapsed": false
   }
  },
  {
   "cell_type": "markdown",
   "source": [
    "MyComplex表示复数类，定义方法返回复数的字符串表示，并定义表示两个复数加、减、乘的运算。\n",
    "设复数c1为1-2j，c2为2+3j，则输入和输出如下所示，其中输入为空时输出c1。"
   ],
   "metadata": {
    "collapsed": false
   }
  },
  {
   "cell_type": "code",
   "execution_count": 6,
   "outputs": [
    {
     "name": "stdout",
     "output_type": "stream",
     "text": [
      "-8-1j\n",
      "-8-1j\n",
      "-8-1j\n",
      "-8-1j\n"
     ]
    }
   ],
   "source": [
    "class MyComplex:\n",
    "##### write your codes here...\n",
    "    def __init__(self,sh,xu):\n",
    "        self.sh = sh\n",
    "        self.xu = xu\n",
    "    def __str__(self):\n",
    "        if self.xu < 0:\n",
    "            return f\"{self.sh}{self.xu}j\"\n",
    "        else:\n",
    "            return f\"{self.sh}+{self.xu}j\"\n",
    "    def __add__(self, y):\n",
    "        s1 = self.sh + y.sh\n",
    "        s2 = self.xu + y.xu\n",
    "        return MyComplex(s1, s2)\n",
    "    def __sub__(self, y):\n",
    "        s1 = self.sh - y.sh\n",
    "        s2 = self.xu - y.xu\n",
    "        return MyComplex(s1, s2)\n",
    "    def __mul__(self, y):\n",
    "        s1 = self.sh * y.sh - self.xu * y.xu\n",
    "        s2 = self.xu * y.sh + self.sh * y.xu\n",
    "        return MyComplex(s1, s2)\n",
    "\n",
    "def main():\n",
    "    c1 = MyComplex(1,2)\n",
    "    # print(c1)\n",
    "    c2 = MyComplex(-2,3)\n",
    "    for i in range(4):\n",
    "        op = input()\n",
    "        if op == '+':\n",
    "            print(c1+c2)\n",
    "        elif op == '-':\n",
    "            print(c1-c2)\n",
    "        elif op == '*':\n",
    "            print(c1*c2)\n",
    "        else:\n",
    "            print(c1)\n",
    "if __name__==\"__main__\":main()"
   ],
   "metadata": {
    "collapsed": false
   }
  },
  {
   "cell_type": "markdown",
   "source": [
    "定义n维空间的向量类Vector， 使用list类型成员存储向量。编写代码求向量的长度、模，及两个向量的和、内积、夹角余弦和距离等方法。"
   ],
   "metadata": {
    "collapsed": false
   }
  },
  {
   "cell_type": "code",
   "execution_count": 14,
   "outputs": [
    {
     "name": "stdout",
     "output_type": "stream",
     "text": [
      "3.00\n"
     ]
    }
   ],
   "source": [
    "from typing import Iterable\n",
    "from math import sqrt\n",
    "class Vector:\n",
    "    def __init__(self, items):\n",
    "        assert isinstance(items, Iterable)\n",
    "        self.vect = list(items)\n",
    "\n",
    "    def __len__(self):\n",
    "    # write your code here...\n",
    "        return self.vect[2]\n",
    "    def norm(self):\n",
    "    # sqrt(sigma(x_i ** 2))\n",
    "    # write your code here...\n",
    "        sum = 0\n",
    "        for i in range(len(self.vect)):\n",
    "            sum += self.vect[i]**2\n",
    "        return sqrt(sum)\n",
    "    def __add__(self, other):\n",
    "    # write your code here...\n",
    "        l = []\n",
    "        for i in range(len(self.vect)):\n",
    "            l.append(self.vect[i]+other.vect[i])\n",
    "        return l\n",
    "    def dot(self, other):\n",
    "    # sigma((x_i*y_i)\n",
    "    # write your code here...\n",
    "        sum = 0\n",
    "        for i in range(len(self.vect)):\n",
    "            sum = sum + self.vect[i] * other.vect[i]\n",
    "        return sum\n",
    "    def distance(self, other):\n",
    "    # sqrt(sigma((x_i-y_i)**2))\n",
    "    # write your code here...\n",
    "        sum = 0\n",
    "        for i in range(len(self.vect)):\n",
    "            sum = sum + (self.vect[i] - other.vect[i]) ** 2\n",
    "        return sqrt(sum)\n",
    "\n",
    "if __name__ == '__main__':\n",
    "    v1 = Vector([1,-2,3])\n",
    "    v2 = Vector([3,0,4,])\n",
    "    i = eval(input())\n",
    "    if i== 1:\n",
    "        print(len(v1))\n",
    "    elif i == 2:\n",
    "        print(f'{v1.norm():.2f}')\n",
    "    elif i == 3:\n",
    "        print(v1 + v2)\n",
    "    elif i == 4:\n",
    "        print(v1.dot(v2))\n",
    "    elif i == 5:\n",
    "        print(f'{Vector.distance(v1, v2):.2f}')\n"
   ],
   "metadata": {
    "collapsed": false
   }
  }
 ],
 "metadata": {
  "kernelspec": {
   "display_name": "Python 3",
   "language": "python",
   "name": "python3"
  },
  "language_info": {
   "codemirror_mode": {
    "name": "ipython",
    "version": 2
   },
   "file_extension": ".py",
   "mimetype": "text/x-python",
   "name": "python",
   "nbconvert_exporter": "python",
   "pygments_lexer": "ipython2",
   "version": "2.7.6"
  }
 },
 "nbformat": 4,
 "nbformat_minor": 0
}
