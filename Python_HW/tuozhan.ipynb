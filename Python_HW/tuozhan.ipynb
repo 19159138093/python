{
 "cells": [
  {
   "cell_type": "code",
   "execution_count": null,
   "metadata": {},
   "outputs": [],
   "source": [
    "s = input()\n",
    "jh = {'0','1','2','3','4','5','6','7','8','9'}\n",
    "if s[0] not in {'0','1','2','3','4','5','6','7','8','9','+', '-'}:\n",
    "    print(None)\n",
    "else:\n",
    "    m = []\n",
    "    if s[0] == '-':\n",
    "        a = s[0]\n",
    "    else:\n",
    "        a = ''\n",
    "    for i in s[-1::-1]:\n",
    "        if i in jh:\n",
    "            m.append(i)\n",
    "    n=int(''.join(m))\n",
    "    print(a+'%d'%(n))"
   ]
  },
  {
   "cell_type": "code",
   "execution_count": 35,
   "metadata": {},
   "outputs": [
    {
     "name": "stdout",
     "output_type": "stream",
     "text": [
      "(True, 'abc')\n"
     ]
    }
   ],
   "source": [
    "from itertools import permutations\n",
    "\n",
    "def jian(x,y):\n",
    "    m = list(x)\n",
    "    for j in y:\n",
    "        if j in m:\n",
    "            m.remove(j)\n",
    "    return \"\".join(m)\n",
    "def equal(s1,s2):\n",
    "    # write your code here...\n",
    "    ss1 = []\n",
    "    ss2 = []\n",
    "    for x in s1:\n",
    "        if x >= 'a' and x <= 'z':\n",
    "            ss1.append(x)\n",
    "        elif x >= 'A' and x <= 'Z':\n",
    "            ss1.append(x)\n",
    "    for x in s2:\n",
    "        if x >= 'a' and x <= 'z':\n",
    "            ss2.append(x)\n",
    "        elif x >= 'A' and x <= 'Z':\n",
    "            ss2.append(x)\n",
    "    s3 = ''.join(ss1)\n",
    "    s4 = ''.join(ss2)\n",
    "    if s3 == ''.join(sorted(list(s4))):\n",
    "        return True,s3\n",
    "    else:\n",
    "        s = jian(s3,s4) + '|' + jian(s4,s3)\n",
    "        return False, s\n",
    "s1, s2 = input().split(',')\n",
    "print(equal(s1, s2))"
   ]
  },
  {
   "cell_type": "code",
   "execution_count": null,
   "metadata": {},
   "outputs": [],
   "source": [
    "import string\n",
    "\n",
    "def vigenere_encryption(text, key):\n",
    "## write your code here...\n",
    "    n = []\n",
    "    for i in range(26):\n",
    "        m = []\n",
    "        for j in range(26):\n",
    "            x = (i + j) % 26 + ord('A')\n",
    "            m.append(chr(x))\n",
    "        n.append(m)\n",
    "    a = []\n",
    "    m1 = 0\n",
    "    for i in range(len(text)):\n",
    "        if 'A' <= text[i] and text[i] <= 'Z':\n",
    "            n1 = ord(text[i]) % ord('A')\n",
    "            n2 = ord(key[m1 % len(key)]) % ord('A')\n",
    "            m1 += 1\n",
    "            a.append(n[n1][n2])\n",
    "        else:\n",
    "            a.append(text[i])\n",
    "    s = ''.join(a)\n",
    "    return s\n",
    "if __name__ == '__main__':\n",
    "    secret_key = input()\n",
    "    plain_text = input()\n",
    "    plain_to_cipher_text = vigenere_encryption(plain_text.upper(), secret_key.upper())\n",
    "    print(plain_to_cipher_text)"
   ]
  },
  {
   "cell_type": "code",
   "execution_count": null,
   "metadata": {},
   "outputs": [],
   "source": [
    "def jisuan(s):\n",
    "        m = 0\n",
    "        s1 = ''\n",
    "        while m < len(s):\n",
    "            count = 1\n",
    "            while m < len(s) - 1 and s[m] == s[m+1]:\n",
    "                count += 1\n",
    "                m += 1\n",
    "            s1 += str(count) + s[m]\n",
    "            m += 1\n",
    "        return s1\n",
    "def shulie(s,n):\n",
    "    for i in range(1,n):\n",
    "        s = jisuan(s)\n",
    "    return s\n",
    "x = input().split(',')\n",
    "print(shulie(x[0],int(x[1])))"
   ]
  },
  {
   "cell_type": "code",
   "execution_count": null,
   "metadata": {},
   "outputs": [],
   "source": [
    "from string import ascii_uppercase as uppercase\n",
    "from random import seed,sample\n",
    "sd, k = input().split(',')\n",
    "seed(sd)\n",
    "k = int(k)\n",
    "s1 = sample(uppercase,k)\n",
    "s2 = sorted(list(set(uppercase) - set(s1)))[::-1]\n",
    "keys = ''.join(s1+s2)\n",
    "txt = input().upper()  # 输入要加密的字符串\n",
    "table = ''.maketrans(uppercase, keys)  #\n",
    "print(txt.translate(table))"
   ]
  },
  {
   "cell_type": "code",
   "execution_count": null,
   "metadata": {},
   "outputs": [],
   "source": [
    "n = int(input())\n",
    "m = 0\n",
    "if n <= 20:\n",
    "    m = n * 95\n",
    "elif n <= 40:\n",
    "    m = 20 * 95 + (n - 20) * 75\n",
    "elif n <= 50:\n",
    "    m = 20 * 95 + 20 * 75 + (n - 40) * 65\n",
    "else:\n",
    "    m = 20 * 95 + 20 * 75 + 10 * 65 + (n - 50) * 60\n",
    "print(m)"
   ]
  },
  {
   "cell_type": "code",
   "execution_count": null,
   "metadata": {},
   "outputs": [],
   "source": [
    "def group_by_element(lst):\n",
    "    # write your codes here...\n",
    "    p = 0\n",
    "    m = []\n",
    "    while p < len(lst):\n",
    "        s1 = []\n",
    "        while p < len(lst) - 1 and lst[p] == lst[p+1]:\n",
    "            s1.append(lst[p])\n",
    "            p += 1\n",
    "        s1.append(lst[p])\n",
    "        m.append(s1)\n",
    "        p += 1\n",
    "    return m\n",
    "\n",
    "if __name__ == '__main__':\n",
    "    group = group_by_element(list(eval(input())))\n",
    "    print(group)"
   ]
  },
  {
   "cell_type": "code",
   "execution_count": null,
   "metadata": {},
   "outputs": [],
   "source": [
    "m = eval(input())\n",
    "m = sorted(m)\n",
    "n = 0\n",
    "if len(m) % 2 == 0:\n",
    "    n = (m[len(m)//2] + m[len(m)//2-1])/2\n",
    "else:\n",
    "    n = m[len(m)//2]\n",
    "print(n)"
   ]
  },
  {
   "cell_type": "code",
   "execution_count": null,
   "metadata": {},
   "outputs": [],
   "source": [
    "import math\n",
    "def solve(s, e, n):\n",
    "    dx = (e - s) / (n-1)\n",
    "    xlist = [s + i * dx for i in range(0, n)]\n",
    "    std  = lambda x: 1 / math.sqrt(2 * math.pi) * math.exp(-0.5 * x ** 2)\n",
    "    ylist = [round(std(x),2) for x in xlist]\n",
    "    return ylist\n",
    "\n",
    "s, e = eval(input())\n",
    "n = eval(input())\n",
    "print(solve(s, e, n))"
   ]
  },
  {
   "cell_type": "code",
   "execution_count": 14,
   "metadata": {},
   "outputs": [
    {
     "name": "stdout",
     "output_type": "stream",
     "text": [
      "False\n"
     ]
    }
   ],
   "source": [
    "import math\n",
    "def is_monisen(n):\n",
    "# write your codes here...\n",
    "    def isprime(n):\n",
    "        if n == 0 or n == 1:\n",
    "            return False\n",
    "        for i in range(2,int(math.sqrt(n))+1):\n",
    "            if n % i == 0:\n",
    "                return False\n",
    "        return True\n",
    "    a = n\n",
    "    b = math.log2(a+1)\n",
    "    if b % 1 != 0:\n",
    "        return False\n",
    "    if isprime(a) and isprime(b):\n",
    "        return True\n",
    "    else:\n",
    "        return False\n",
    "n = eval(input())\n",
    "print(is_monisen(n))"
   ]
  },
  {
   "cell_type": "code",
   "execution_count": 15,
   "metadata": {},
   "outputs": [
    {
     "data": {
      "text/plain": [
       "6.614709844115208"
      ]
     },
     "execution_count": 15,
     "metadata": {},
     "output_type": "execute_result"
    }
   ],
   "source": [
    "def Win(board):\n",
    "    # return 'X' if X win, 'O' if O win, else ' '\n",
    "    for i in range(0,3):#是否连成一行\n",
    "        if board[i*3]==board[i*3+1]== board[i*3+2]:\n",
    "            return board[i*3]\n",
    "    for j in range(0,3):#是否连成一列\n",
    "        if board[j] == board[3+j]==board[6+j]:\n",
    "            return board[j]\n",
    "    if board[0]== board[4]==board[8]:#判断斜线\n",
    "        return board[0]\n",
    "    if board[2]== board[4]== board[6]:#判断反斜线\n",
    "        return board[2]\n",
    "    return ' '\n",
    "board=eval(input())\n",
    "if Win(board) == 'X':\n",
    "    print(\"X win\")\n",
    "elif Win(board) == 'O':\n",
    "    print(\"O win\")\n",
    "else:\n",
    "    print(\"Draw\")"
   ]
  },
  {
   "cell_type": "code",
   "execution_count": 2,
   "metadata": {},
   "outputs": [
    {
     "ename": "NameError",
     "evalue": "name 'N' is not defined",
     "output_type": "error",
     "traceback": [
      "\u001b[1;31m---------------------------------------------------------------------------\u001b[0m",
      "\u001b[1;31mNameError\u001b[0m                                 Traceback (most recent call last)",
      "Cell \u001b[1;32mIn [2], line 5\u001b[0m\n\u001b[0;32m      3\u001b[0m total \u001b[39m=\u001b[39m \u001b[39m'\u001b[39m\u001b[39m'\u001b[39m\n\u001b[0;32m      4\u001b[0m carry \u001b[39m=\u001b[39m \u001b[39m0\u001b[39m\n\u001b[1;32m----> 5\u001b[0m \u001b[39mfor\u001b[39;00m i \u001b[39min\u001b[39;00m \u001b[39mrange\u001b[39m(N\u001b[39m-\u001b[39m\u001b[39m1\u001b[39m, \u001b[39m-\u001b[39m\u001b[39m1\u001b[39m, \u001b[39m-\u001b[39m\u001b[39m1\u001b[39m):\n\u001b[0;32m      6\u001b[0m     \u001b[39mif\u001b[39;00m s1[i] \u001b[39m==\u001b[39m s2[i] \u001b[39m==\u001b[39m \u001b[39m'\u001b[39m\u001b[39ma\u001b[39m\u001b[39m'\u001b[39m:\n\u001b[0;32m      7\u001b[0m         \u001b[39mif\u001b[39;00m carry \u001b[39m>\u001b[39m \u001b[39m0\u001b[39m:\n",
      "\u001b[1;31mNameError\u001b[0m: name 'N' is not defined"
     ]
    }
   ],
   "source": []
  },
  {
   "cell_type": "code",
   "execution_count": 18,
   "metadata": {},
   "outputs": [
    {
     "name": "stdout",
     "output_type": "stream",
     "text": [
      "1 2 23 3 24 5 25\n"
     ]
    }
   ],
   "source": [
    "a = ord('b') - 97\n",
    "b = ord('c') - 97\n",
    "c = ord('x') - 97\n",
    "d = ord('d') - 97\n",
    "e = ord('y') - 97\n",
    "f = ord('f') - 97\n",
    "g = ord('z') - 97\n",
    "print(a,b,c,d,e,f,g)"
   ]
  }
 ],
 "metadata": {
  "kernelspec": {
   "display_name": "Python 3.10.2 64-bit",
   "language": "python",
   "name": "python3"
  },
  "language_info": {
   "codemirror_mode": {
    "name": "ipython",
    "version": 3
   },
   "file_extension": ".py",
   "mimetype": "text/x-python",
   "name": "python",
   "nbconvert_exporter": "python",
   "pygments_lexer": "ipython3",
   "version": "3.10.2"
  },
  "orig_nbformat": 4,
  "vscode": {
   "interpreter": {
    "hash": "cd28e3f04655be0cf2c3c59ecb10ad5a40a38387297ad6d3bb40e21494cdd4b4"
   }
  }
 },
 "nbformat": 4,
 "nbformat_minor": 2
}
