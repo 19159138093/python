{
 "cells": [
  {
   "cell_type": "code",
   "execution_count": null,
   "metadata": {},
   "outputs": [],
   "source": [
    "s = input()\n",
    "jh = {'0','1','2','3','4','5','6','7','8','9'}\n",
    "if s[0] not in {'0','1','2','3','4','5','6','7','8','9','+', '-'}:\n",
    "    print(None)\n",
    "else:\n",
    "    m = []\n",
    "    if s[0] == '-':\n",
    "        a = s[0]\n",
    "    else:\n",
    "        a = ''\n",
    "    for i in s[-1::-1]:\n",
    "        if i in jh:\n",
    "            m.append(i)\n",
    "    n=int(''.join(m))\n",
    "    print(a+'%d'%(n))"
   ]
  },
  {
   "cell_type": "code",
   "execution_count": 35,
   "metadata": {},
   "outputs": [
    {
     "name": "stdout",
     "output_type": "stream",
     "text": [
      "(True, 'abc')\n"
     ]
    }
   ],
   "source": [
    "from itertools import permutations\n",
    "\n",
    "def jian(x,y):\n",
    "    m = list(x)\n",
    "    for j in y:\n",
    "        if j in m:\n",
    "            m.remove(j)\n",
    "    return \"\".join(m)\n",
    "def equal(s1,s2):\n",
    "    # write your code here...\n",
    "    ss1 = []\n",
    "    ss2 = []\n",
    "    for x in s1:\n",
    "        if x >= 'a' and x <= 'z':\n",
    "            ss1.append(x)\n",
    "        elif x >= 'A' and x <= 'Z':\n",
    "            ss1.append(x)\n",
    "    for x in s2:\n",
    "        if x >= 'a' and x <= 'z':\n",
    "            ss2.append(x)\n",
    "        elif x >= 'A' and x <= 'Z':\n",
    "            ss2.append(x)\n",
    "    s3 = ''.join(ss1)\n",
    "    s4 = ''.join(ss2)\n",
    "    if s3 == ''.join(sorted(list(s4))):\n",
    "        return True,s3\n",
    "    else:\n",
    "        s = jian(s3,s4) + '|' + jian(s4,s3)\n",
    "        return False, s\n",
    "s1, s2 = input().split(',')\n",
    "print(equal(s1, s2))"
   ]
  },
  {
   "cell_type": "code",
   "execution_count": null,
   "metadata": {},
   "outputs": [],
   "source": [
    "import string\n",
    "\n",
    "def vigenere_encryption(text, key):\n",
    "## write your code here...\n",
    "    n = []\n",
    "    for i in range(26):\n",
    "        m = []\n",
    "        for j in range(26):\n",
    "            x = (i + j) % 26 + ord('A')\n",
    "            m.append(chr(x))\n",
    "        n.append(m)\n",
    "    a = []\n",
    "    m1 = 0\n",
    "    for i in range(len(text)):\n",
    "        if 'A' <= text[i] and text[i] <= 'Z':\n",
    "            n1 = ord(text[i]) % ord('A')\n",
    "            n2 = ord(key[m1 % len(key)]) % ord('A')\n",
    "            m1 += 1\n",
    "            a.append(n[n1][n2])\n",
    "        else:\n",
    "            a.append(text[i])\n",
    "    s = ''.join(a)\n",
    "    return s\n",
    "if __name__ == '__main__':\n",
    "    secret_key = input()\n",
    "    plain_text = input()\n",
    "    plain_to_cipher_text = vigenere_encryption(plain_text.upper(), secret_key.upper())\n",
    "    print(plain_to_cipher_text)"
   ]
  },
  {
   "cell_type": "code",
   "execution_count": null,
   "metadata": {},
   "outputs": [],
   "source": [
    "def jisuan(s):\n",
    "        m = 0\n",
    "        s1 = ''\n",
    "        while m < len(s):\n",
    "            count = 1\n",
    "            while m < len(s) - 1 and s[m] == s[m+1]:\n",
    "                count += 1\n",
    "                m += 1\n",
    "            s1 += str(count) + s[m]\n",
    "            m += 1\n",
    "        return s1\n",
    "def shulie(s,n):\n",
    "    for i in range(1,n):\n",
    "        s = jisuan(s)\n",
    "    return s\n",
    "x = input().split(',')\n",
    "print(shulie(x[0],int(x[1])))"
   ]
  },
  {
   "cell_type": "code",
   "execution_count": null,
   "metadata": {},
   "outputs": [],
   "source": [
    "from string import ascii_uppercase as uppercase\n",
    "from random import seed,sample\n",
    "sd, k = input().split(',')\n",
    "seed(sd)\n",
    "k = int(k)\n",
    "s1 = sample(uppercase,k)\n",
    "s2 = sorted(list(set(uppercase) - set(s1)))[::-1]\n",
    "keys = ''.join(s1+s2)\n",
    "txt = input().upper()  # 输入要加密的字符串\n",
    "table = ''.maketrans(uppercase, keys)  #\n",
    "print(txt.translate(table))"
   ]
  },
  {
   "cell_type": "code",
   "execution_count": null,
   "metadata": {},
   "outputs": [],
   "source": [
    "n = int(input())\n",
    "m = 0\n",
    "if n <= 20:\n",
    "    m = n * 95\n",
    "elif n <= 40:\n",
    "    m = 20 * 95 + (n - 20) * 75\n",
    "elif n <= 50:\n",
    "    m = 20 * 95 + 20 * 75 + (n - 40) * 65\n",
    "else:\n",
    "    m = 20 * 95 + 20 * 75 + 10 * 65 + (n - 50) * 60\n",
    "print(m)"
   ]
  },
  {
   "cell_type": "code",
   "execution_count": null,
   "metadata": {},
   "outputs": [],
   "source": [
    "def group_by_element(lst):\n",
    "    # write your codes here...\n",
    "    p = 0\n",
    "    m = []\n",
    "    while p < len(lst):\n",
    "        s1 = []\n",
    "        while p < len(lst) - 1 and lst[p] == lst[p+1]:\n",
    "            s1.append(lst[p])\n",
    "            p += 1\n",
    "        s1.append(lst[p])\n",
    "        m.append(s1)\n",
    "        p += 1\n",
    "    return m\n",
    "\n",
    "if __name__ == '__main__':\n",
    "    group = group_by_element(list(eval(input())))\n",
    "    print(group)"
   ]
  },
  {
   "cell_type": "code",
   "execution_count": null,
   "metadata": {},
   "outputs": [],
   "source": [
    "m = eval(input())\n",
    "m = sorted(m)\n",
    "n = 0\n",
    "if len(m) % 2 == 0:\n",
    "    n = (m[len(m)//2] + m[len(m)//2-1])/2\n",
    "else:\n",
    "    n = m[len(m)//2]\n",
    "print(n)"
   ]
  },
  {
   "cell_type": "code",
   "execution_count": null,
   "metadata": {},
   "outputs": [],
   "source": [
    "import math\n",
    "def solve(s, e, n):\n",
    "    dx = (e - s) / (n-1)\n",
    "    xlist = [s + i * dx for i in range(0, n)]\n",
    "    std  = lambda x: 1 / math.sqrt(2 * math.pi) * math.exp(-0.5 * x ** 2)\n",
    "    ylist = [round(std(x),2) for x in xlist]\n",
    "    return ylist\n",
    "\n",
    "s, e = eval(input())\n",
    "n = eval(input())\n",
    "print(solve(s, e, n))"
   ]
  },
  {
   "cell_type": "code",
   "execution_count": 14,
   "metadata": {},
   "outputs": [
    {
     "name": "stdout",
     "output_type": "stream",
     "text": [
      "False\n"
     ]
    }
   ],
   "source": [
    "import math\n",
    "def is_monisen(n):\n",
    "# write your codes here...\n",
    "    def isprime(n):\n",
    "        if n == 0 or n == 1:\n",
    "            return False\n",
    "        for i in range(2,int(math.sqrt(n))+1):\n",
    "            if n % i == 0:\n",
    "                return False\n",
    "        return True\n",
    "    a = n\n",
    "    b = math.log2(a+1)\n",
    "    if b % 1 != 0:\n",
    "        return False\n",
    "    if isprime(a) and isprime(b):\n",
    "        return True\n",
    "    else:\n",
    "        return False\n",
    "n = eval(input())\n",
    "print(is_monisen(n))"
   ]
  },
  {
   "cell_type": "code",
   "execution_count": 8,
   "metadata": {},
   "outputs": [
    {
     "name": "stdout",
     "output_type": "stream",
     "text": [
      "O win\n"
     ]
    }
   ],
   "source": [
    "def Win(board):\n",
    "    # return 'X' if X win, 'O' if O win, else ' '\n",
    "    for i in range(0,3):#是否连成一行\n",
    "        if board[i*3]==board[i*3+1]== board[i*3+2]:\n",
    "            return board[i*3]\n",
    "    for j in range(0,3):#是否连成一列\n",
    "        if board[j] == board[3+j]==board[6+j]:\n",
    "            return board[j]\n",
    "    if board[0]== board[4]==board[8]:#判断斜线\n",
    "        return board[0]\n",
    "    if board[2]== board[4]== board[6]:#判断反斜线\n",
    "        return board[2]\n",
    "    return ' '\n",
    "board=eval(input())\n",
    "if Win(board) == 'X':\n",
    "    print(\"X win\")\n",
    "elif Win(board) == 'O':\n",
    "    print(\"O win\")\n",
    "else:\n",
    "    print(\"Draw\")"
   ]
  },
  {
   "cell_type": "code",
   "execution_count": 15,
   "metadata": {},
   "outputs": [
    {
     "name": "stdout",
     "output_type": "stream",
     "text": [
      "bc+xd=yf\n"
     ]
    }
   ],
   "source": [
    "N = 10\n",
    "a = input()\n",
    "b = input()\n",
    "s1 = f\"{a:a>{N}}\"  # 加数和被加数都变成长为N的字符串，不足用a补齐\n",
    "s2 = f\"{b:a>{N}}\"\n",
    "\n",
    "total = ''\n",
    "carry = 0\n",
    "for i in range(N-1, -1, -1):\n",
    "    if s1[i] == s2[i] == 'a':\n",
    "        if carry > 0:\n",
    "            total = 'b' + total\n",
    "        break\n",
    "    else:\n",
    "        ss1, ss2= ord(s1[i]) - ord('a'),ord(s2[i]) - ord('a')\n",
    "        carry, si = divmod(ss1 + ss2 + carry, 26)  # 本位上的和,进位\n",
    "        total = chr(si + ord('a')) + total\n",
    "print(a+'+'+b+'='+total)"
   ]
  },
  {
   "cell_type": "code",
   "execution_count": 17,
   "outputs": [
    {
     "name": "stdout",
     "output_type": "stream",
     "text": [
      "True\n"
     ]
    }
   ],
   "source": [
    "def isHappy(n):\n",
    "    temp=[]\n",
    "    while n!=1 and n not in temp:\n",
    "        temp.append(n)\n",
    "        n=sum(int(i)**2 for i in str(n))\n",
    "    return n==1\n",
    "n = eval(input())\n",
    "print(isHappy(n))"
   ],
   "metadata": {
    "collapsed": false
   }
  },
  {
   "cell_type": "markdown",
   "source": [
    "输入一个[0-9]之间的数字，统计从1开始到给定数字的序列里一共出现多少次这个数字。"
   ],
   "metadata": {
    "collapsed": false
   }
  },
  {
   "cell_type": "code",
   "execution_count": 1,
   "outputs": [
    {
     "name": "stdout",
     "output_type": "stream",
     "text": [
      "20\n"
     ]
    }
   ],
   "source": [
    "a,b = map(int, input().split(','))\n",
    "count = 0\n",
    "for i in range(1,a+1):\n",
    "    for j in str(i):\n",
    "        if int(j) == b:\n",
    "            count = count + 1\n",
    "print(count)"
   ],
   "metadata": {
    "collapsed": false
   }
  },
  {
   "cell_type": "code",
   "execution_count": null,
   "outputs": [],
   "source": [
    "def num2alpha(num):\n",
    "    # write your code here...\n",
    "    l = []\n",
    "    while num != 0:\n",
    "        m = (num - 1) % 26\n",
    "        num = (num - 1) // 26\n",
    "        l.append(chr(ord('A') + m))\n",
    "    l.reverse()\n",
    "    return ''.join(l)\n",
    "if __name__ == \"__main__\":\n",
    "    num = int(input())\n",
    "    print(num2alpha(num))"
   ],
   "metadata": {
    "collapsed": false
   }
  },
  {
   "cell_type": "markdown",
   "source": [
    "eval_poly(s,x)函数对字符串s表示的多项式求值，多项式的每一项格式为<符号><系数>x^<指数>的格式(首项可能没用符号)，指数均为正数且互不相同，比如：\n",
    "2x^4  表示  2*x**4，-5x^3+3x^2  表示 −5x3+3x2。\n",
    "函数首先实现将参数str所存的字符串表示的多项式转为用字典表示的多项式，字典的键key为指数，值value为系数，然后输出字典。\n",
    "接着计算表达式在x处的值并输出。"
   ],
   "metadata": {
    "collapsed": false
   }
  },
  {
   "cell_type": "code",
   "execution_count": null,
   "outputs": [],
   "source": [
    "def eval_poly(s,x):\n",
    "    sign_pos = [i for i,c in enumerate(s) if c in '+-']\n",
    "    sign_pos.append(len(s))\n",
    "    if sign_pos[0]==0: #first item with signs\n",
    "        sign_pos = sign_pos[1:]\n",
    "    idx = 0\n",
    "    poly = {}\n",
    "    for i in sign_pos:\n",
    "        items = s[idx:i].split('x^')\n",
    "        if len(items) == 1:# const items\n",
    "            factor, exponent = eval(items[0]),0\n",
    "        else:\n",
    "            if items[0] == '': # factor 1 omitted\n",
    "                factor, exponent = 1,eval(items[1])\n",
    "            else:\n",
    "                factor,exponent = map(eval,items)\n",
    "        poly[exponent] = factor\n",
    "        idx = i\n",
    "    print(poly)\n",
    "    sum = 0\n",
    "    for power in poly.keys():\n",
    "        sum += poly[power] * x ** power\n",
    "    print(sum)\n",
    "s = input()\n",
    "x = eval(input())\n",
    "eval_poly(s,x)"
   ],
   "metadata": {
    "collapsed": false
   }
  },
  {
   "cell_type": "code",
   "execution_count": null,
   "outputs": [],
   "source": [
    "from random import gauss,seed,choices\n",
    "\n",
    "sd = input()\n",
    "seed(sd)\n",
    "all_names = ['Karl', 'Kevin', 'Maria', 'Diane', 'Ryan', 'Brian', 'Jane', 'James', 'Laura', 'Anna', 'Joseph', 'Jon', 'Madison', 'Dawn', 'Jesse', 'Taylor', 'Alejandro', 'Caroline', 'Lee', 'Courtney', 'Erik', 'Ian', 'Michael', 'Sean', 'Timothy', 'Frances', 'Samantha', 'Lynn', 'Paul', 'Mark']\n",
    "names = choices(all_names,k=6)\n",
    "scores = [[min(int(gauss(70,15)),100) for _ in range(3)] for _ in range(6)]\n",
    "\n",
    "# write your code here...\n",
    "bujige = []\n",
    "zuigaofen = []\n",
    "fen = {}\n",
    "for i in range(6):\n",
    "    for j in scores[i]:\n",
    "        if j < 60 and names[i] not in bujige:\n",
    "            bujige.append(names[i])\n",
    "for i in range(3):\n",
    "    max = 0\n",
    "    s = 0\n",
    "    for j in range(6):\n",
    "        if scores[j][i] > max:\n",
    "            max = scores[j][i]\n",
    "            s = j\n",
    "    zuigaofen.append(tuple([names[s], max]))\n",
    "for i in range(6):\n",
    "    num = 0\n",
    "    for j in scores[i]:\n",
    "        num += j\n",
    "    fen[names[i]] = num\n",
    "zongfen = sorted(fen.items(),key=lambda x:x[1],reverse=True)\n",
    "print(\"不及格：\")\n",
    "print('',bujige)\n",
    "print('单科：')\n",
    "print('',zuigaofen)\n",
    "print('总分：')\n",
    "print('',dict(zongfen))"
   ],
   "metadata": {
    "collapsed": false
   }
  },
  {
   "cell_type": "code",
   "execution_count": null,
   "outputs": [],
   "source": [
    "import random\n",
    "def rnd_mod():\n",
    "    nums = [random.randint(1,100) for i in range(500)]\n",
    "    setNums = set(nums)\n",
    "    m = 0\n",
    "    m2 = 0\n",
    "    for num in setNums:\n",
    "        if nums.count(num) > m:\n",
    "            m = nums.count(num)\n",
    "            m2 = num\n",
    "    print(\"(%d, %d)\"% (m2,m))\n",
    "random.seed(input())\n",
    "rnd_mod()"
   ],
   "metadata": {
    "collapsed": false
   }
  },
  {
   "cell_type": "code",
   "execution_count": 20,
   "outputs": [
    {
     "name": "stdout",
     "output_type": "stream",
     "text": [
      "洗牌:\n",
      "♦6 ♥2 ♣A ♥3 ♦3 ♦J ♥5 ♥10 ♠9 ♥4 ♥8 ♥A ♣10 ♣K ♥6 ♠A ♥7 ♠6 ♣7 ♣Q ♣J ♠2 ♠Q ♦8 ♠K ♠5 ♣5 ♦2 ♦Q ♠4 jokers ♠7 ♥J ♦9 JOKERS ♣3 ♠J ♣2 ♦4 ♦5 ♠10 ♦10 ♦K ♦7 ♥Q ♣8 ♣4 ♠8 ♣9 ♥9 ♥K ♣6 ♠3 ♦A\n",
      "分牌:\n",
      "♦6 ♦3 ♠9 ♣10 ♥7 ♣J ♠K ♦Q ♥J ♠J ♠10 ♥Q ♣9 ♠3\n",
      "♥2 ♦J ♥4 ♣K ♠6 ♠2 ♠5 ♠4 ♦9 ♣2 ♦10 ♣8 ♥9 ♦A\n",
      "♣A ♥5 ♥8 ♥6 ♣7 ♠Q ♣5 jokers JOKERS ♦4 ♦K ♣4 ♥K\n",
      "♥3 ♥10 ♥A ♠A ♣Q ♦8 ♦2 ♠7 ♣3 ♦5 ♦7 ♠8 ♣6\n",
      "排序:\n",
      "♠3 ♠9 ♠10 ♠J ♠K ♥7 ♥J ♥Q ♣9 ♣10 ♣J ♦3 ♦6 ♦Q\n",
      "♠2 ♠4 ♠5 ♠6 ♥2 ♥4 ♥9 ♣2 ♣8 ♣K ♦9 ♦10 ♦J ♦A\n",
      "♠Q ♥5 ♥6 ♥8 ♣5 ♣7 ♣A ♦4 ♦K jokers JOKERS\n",
      "♠7 ♠8 ♠A ♥3 ♥10 ♥A ♣3 ♣6 ♣Q ♦2 ♦5 ♦7 ♦8\n"
     ]
    }
   ],
   "source": [
    "import random\n",
    "def start():\n",
    "    \"\"\"初始顺序，返回元素为字符串的列表\"\"\"\n",
    "    cards_start = [i + j for i in desigh for j in num] + ghost\n",
    "    return cards_start\n",
    "def shuffle_cards(cards_start):\n",
    "    \"\"\"打乱顺序，返回元素为字符串的列表\"\"\"\n",
    "    random.shuffle(cards_start)\n",
    "    return cards_start\n",
    "def traver(cards_shuffle, m):\n",
    "    \"\"\"发牌给m个人,返回二维列表\"\"\"\n",
    "    person = []\n",
    "    for i in range(m):\n",
    "        person.append(cards_shuffle[i::m])\n",
    "    return person\n",
    "def sort_cards(person, m):\n",
    "    \"\"\"对m个人手上的牌进行升序排序，花色按黑红梅方，牌面按点数，大王最大，小王第二大\"\"\"\n",
    "    person_sort = []\n",
    "    for i in range(m):\n",
    "        if ('jokers' in person[i]) and ('JOKERS' in person[i]):\n",
    "            person[i].remove('jokers')\n",
    "            person[i].remove('JOKERS')\n",
    "            person_sort.append(sorted(person[i][:-2], key=lambda x: (desigh.index(x[0]), num.index(x[1:])))+['jokers', 'JOKERS'])\n",
    "        elif 'jokers' in person[i]:\n",
    "            person[i].remove('jokers')\n",
    "            person_sort.append(sorted(person[i], key=lambda x: (desigh.index(x[0]), num.index(x[1:])))+['jokers'])\n",
    "        elif 'JOKERS' in person[i]:\n",
    "            person[i].remove('JOKERS')\n",
    "            person_sort.append(sorted(person[i], key=lambda x: (desigh.index(x[0]), num.index(x[1:])))+['JOKERS'])\n",
    "        else:\n",
    "            person_sort.append(sorted(person[i], key=lambda x: (desigh.index(x[0]), num.index(x[1:]))))\n",
    "    return person_sort\n",
    "if __name__ == '__main__':\n",
    "    desigh = ['♠', '♥', '♣', '♦']  # 表示黑桃、红桃、梅花、方块\n",
    "    num = ['2', '3', '4', '5', '6', '7', '8', '9', '10', 'J', 'Q', 'K', 'A']\n",
    "    ghost = ['jokers', 'JOKERS']\n",
    "    n = int(input())  # 输入参与游戏的人数\n",
    "    s = int(input())\n",
    "    random.seed(s)\n",
    "    cards = start()\n",
    "    cards_after = shuffle_cards(cards)\n",
    "    print('洗牌:')\n",
    "    print(*cards_after)\n",
    "    cards_n = traver(cards_after, n)\n",
    "    print('分牌:')\n",
    "    for i in range(n):\n",
    "        print(*cards_n[i])\n",
    "    cards_sort = sort_cards(cards_n, n)\n",
    "    print('排序:')\n",
    "    for i in range(n):\n",
    "        print(*cards_sort[i])"
   ],
   "metadata": {
    "collapsed": false
   }
  },
  {
   "cell_type": "code",
   "execution_count": null,
   "outputs": [],
   "source": [
    "from math import *\n",
    "formula = input()\n",
    "#********** Begin **********#\n",
    "func = f\"\"\"\n",
    "def f(x):\n",
    "    return {formula}\n",
    "    \"\"\"\n",
    "exec(func)\n",
    "def num_derivative(f, x, h=1E-5):\n",
    "    return (f(x+h) - f(x-h))/(2*h)\n",
    "x=eval(input())\n",
    "print(f'{num_derivative(f, x):.2f}')"
   ],
   "metadata": {
    "collapsed": false
   }
  },
  {
   "cell_type": "code",
   "execution_count": null,
   "outputs": [],
   "source": [
    "import sys\n",
    "class inclusive_range():\n",
    "    def __init__(self,*args):\n",
    "        numargs = len(args)\n",
    "        if numargs==0 :\n",
    "            raise TypeError(\"must specify at least one argument\")\n",
    "        elif numargs == 1 :\n",
    "            self.stop = args[0]\n",
    "            self.start = 0\n",
    "            self.step = 1\n",
    "        elif numargs == 2 :\n",
    "            self.start,self.stop = args\n",
    "            self.step = 1\n",
    "        elif numargs == 3 :\n",
    "            self.start,self.stop,self.step = args\n",
    "        else:\n",
    "            raise TypeError(\"expected at most three arguments,{} are provided.\".format(numargs))\n",
    "    def __iter__(self):\n",
    "        return self\n",
    "    def __next__(self):\n",
    "        i = self.start\n",
    "        if self.start<=self.stop:\n",
    "            self.start += self.step\n",
    "            return i\n",
    "        else:\n",
    "            raise StopIteration #infinite none\n",
    "\n",
    "args = eval(input())\n",
    "s = 0\n",
    "if type(args) == int:\n",
    "    args = (args,)\n",
    "\n",
    "print(list(inclusive_range(*(args))))"
   ],
   "metadata": {
    "collapsed": false
   }
  },
  {
   "cell_type": "code",
   "execution_count": 7,
   "outputs": [
    {
     "name": "stdout",
     "output_type": "stream",
     "text": [
      "[1]\n",
      "[1, 1]\n",
      "[1, 2, 1]\n",
      "[1, 3, 3, 1]\n",
      "[1, 4, 6, 4, 1]\n"
     ]
    }
   ],
   "source": [
    "def triangles(lnum):\n",
    "# write your code here...\n",
    "    l = [1]\n",
    "    for i in range(lnum):\n",
    "        l1 = [1]\n",
    "        for j in range(len(l) - 1):\n",
    "            l1.append(l[j]+l[j+1])\n",
    "        l1.append(1)\n",
    "        yield l\n",
    "        l = l1\n",
    "\n",
    "n = eval(input())\n",
    "for line in triangles(n):\n",
    "    print(line)"
   ],
   "metadata": {
    "collapsed": false
   }
  },
  {
   "cell_type": "code",
   "execution_count": 6,
   "outputs": [
    {
     "name": "stdout",
     "output_type": "stream",
     "text": [
      "[1]\n",
      "[1, 1]\n",
      "[1, 2, 1]\n",
      "[1, 3, 3, 1]\n",
      "[1, 4, 6, 4, 1]\n"
     ]
    }
   ],
   "source": [
    "n_str = input()\n",
    "if not n_str.isdigit():\n",
    "    print(\"illegal input\")\n",
    "else:\n",
    "    n = int(n_str)\n",
    "    with open(\"in.txt\") as in_file:\n",
    "        cnt = 0\n",
    "        for i in range(n):\n",
    "            line = in_file.readline()\n",
    "            if line[0] == 'A':\n",
    "                cnt += 1\n",
    "                print(line)\n",
    "        if cnt == 0:\n",
    "            print(\"not found\")"
   ],
   "metadata": {
    "collapsed": false
   }
  },
  {
   "cell_type": "code",
   "execution_count": null,
   "outputs": [],
   "source": [
    "def eval_func(path,output):\n",
    "    g = 9.81\n",
    "    with open(path,'r') as infile:\n",
    "        ls = infile.readlines()\n",
    "    v0 = float(ls[0].split(':')[-1])\n",
    "    st = ls[1].split(':')[-1].split()\n",
    "    times =[eval(t) for t in st]\n",
    "    times.sort()\n",
    "    #计算\n",
    "    with open(output,'w') as outfile:\n",
    "        outfile.write('v0 = %.2f\\n' % v0)\n",
    "        outfile.write('t\\ty\\n')\n",
    "        for t in times:\n",
    "            if 0<= t<=2*v0/g:\n",
    "                y = v0 * t - 0.5 * 9.81 * t**2\n",
    "                outfile.write(f'{t:.2f}\\t{y:.2f}\\n')\n",
    "            else:\n",
    "                outfile.write(f'{t:.2f}\\tInvalid\\n')\n",
    "\n",
    "    # ********** End **********#\n",
    "n= input()\n",
    "file = (f'data{n}.txt',f'out{n}.txt')\n",
    "eval_func(*file)"
   ],
   "metadata": {
    "collapsed": false
   }
  },
  {
   "cell_type": "code",
   "execution_count": null,
   "outputs": [],
   "source": [
    "def read_densities(filename):\n",
    "    # with open(filename, 'r') as infile:\n",
    "    infile = open(filename, 'r')\n",
    "    lines = infile.readlines()\n",
    "    infile.close()\n",
    "    densities = {}\n",
    "    for line in lines[1:]:\n",
    "        items = line.split()\n",
    "        densities[items[0]] = eval(items[1])\n",
    "    return densities\n",
    "\n",
    "densities = read_densities(r\"density.txt\")\n",
    "material = input()\n",
    "print(densities.get(material,'unknown'))"
   ],
   "metadata": {
    "collapsed": false
   }
  }
 ],
 "metadata": {
  "kernelspec": {
   "display_name": "Python 3.10.2 64-bit",
   "language": "python",
   "name": "python3"
  },
  "language_info": {
   "codemirror_mode": {
    "name": "ipython",
    "version": 3
   },
   "file_extension": ".py",
   "mimetype": "text/x-python",
   "name": "python",
   "nbconvert_exporter": "python",
   "pygments_lexer": "ipython3",
   "version": "3.10.2"
  },
  "orig_nbformat": 4,
  "vscode": {
   "interpreter": {
    "hash": "cd28e3f04655be0cf2c3c59ecb10ad5a40a38387297ad6d3bb40e21494cdd4b4"
   }
  }
 },
 "nbformat": 4,
 "nbformat_minor": 2
}
