{
 "cells": [
  {
   "cell_type": "markdown",
   "source": [],
   "metadata": {
    "collapsed": false
   }
  },
  {
   "cell_type": "markdown",
   "source": [
    "输入一个整数（可带正负号），对整数除符号位外的数字进行逆位操作，负数逆位后保留符号，输出逆位后的值。若首字符为正负号外的其他符号则输出None。"
   ],
   "metadata": {
    "collapsed": false
   }
  },
  {
   "cell_type": "code",
   "execution_count": 2,
   "metadata": {
    "collapsed": true
   },
   "outputs": [
    {
     "name": "stdout",
     "output_type": "stream",
     "text": [
      "321\n"
     ]
    }
   ],
   "source": [
    "s = input()\n",
    "if s[0] in ['+','-']:\n",
    "    if s[0] == '+':\n",
    "        s2 = s[-1:0:-1]\n",
    "        print(int(s2))\n",
    "    else:\n",
    "        s1 = s[-1:0:-1]\n",
    "        print(s[0]+str(int(s1)))\n",
    "elif s[0] in {'1','2','3','4','5','6','7','8','9'}:\n",
    "    s1 = s[-1::-1]\n",
    "    print(int(s1))\n",
    "else:\n",
    "    print('None')"
   ]
  },
  {
   "cell_type": "markdown",
   "source": [
    "编程对给定字符串中的元音字母（大小写的‘aeiou’）逆序其他符号保持不变。\n",
    "注意：字母有大小写形式。"
   ],
   "metadata": {
    "collapsed": false
   }
  },
  {
   "cell_type": "code",
   "execution_count": 3,
   "outputs": [
    {
     "name": "stdout",
     "output_type": "stream",
     "text": [
      "Ruodibilaty caents.\n"
     ]
    }
   ],
   "source": [
    "def reverse_vowels(s):\n",
    "    ## write your codes here...\n",
    "    l = []\n",
    "    for i in s:\n",
    "        if i in {'a','e','i','o','u','A','E','I','O','U'}:\n",
    "            l.append(i)\n",
    "    l.reverse()\n",
    "    m = 0\n",
    "    l1 = list(s)\n",
    "    for i in range(len(l1)):\n",
    "        if l1[i] in {'a','e','i','o','u','A','E','I','O','U'}:\n",
    "            l1[i] = l[m]\n",
    "            m += 1\n",
    "    return ''.join(l1)\n",
    "print(reverse_vowels(input()))"
   ],
   "metadata": {
    "collapsed": false
   }
  },
  {
   "cell_type": "markdown",
   "source": [
    "定义函数shift(s, flag, n)，将传入的字符串s按照flag（‘L’代表循环左移，'R'代表循环右移）的要求左移或右移n位，返回移位后的字符串，若n超过字符串长度或flag值非‘L’或'R'则返回-1。"
   ],
   "metadata": {
    "collapsed": false
   }
  },
  {
   "cell_type": "code",
   "execution_count": 4,
   "outputs": [
    {
     "name": "stdout",
     "output_type": "stream",
     "text": [
      "lainexp\n"
     ]
    }
   ],
   "source": [
    "def shift(s, flag, n):\n",
    "    # write your code here...\n",
    "    if n > len(s) or flag not in {'R', 'L'}:\n",
    "        return -1\n",
    "    elif flag == 'R':\n",
    "        s1 = s[-n:]+s[:-n]\n",
    "        return s1\n",
    "    elif flag == 'L':\n",
    "        s1 = s[n:]+s[:n]\n",
    "        return s1\n",
    "if __name__ == \"__main__\":\n",
    "    s = input()\n",
    "    flag, n = input().split(',')\n",
    "    result = shift(s, flag, int(n))\n",
    "    print(result)"
   ],
   "metadata": {
    "collapsed": false
   }
  },
  {
   "cell_type": "markdown",
   "source": [
    "给定一个文件，阅读这篇文章并计算26个字母的频率，低字母和高字母被认为是相同的。"
   ],
   "metadata": {
    "collapsed": false
   }
  },
  {
   "cell_type": "code",
   "execution_count": null,
   "outputs": [],
   "source": [
    "def countchar(fname):\n",
    "    with open(fname, 'r') as fin:\n",
    "        s = fin.read()\n",
    "    ls = [0 for _ in range(26)]\n",
    "    for c in s:\n",
    "        if c.isalpha():\n",
    "            ls[ord(c.lower())-ord('a')] += 1\n",
    "    return ls\n",
    "\n",
    "s = \"Life is short, you need Python.\"\n",
    "print(countchar('The Zen of Python.txt'))"
   ],
   "metadata": {
    "collapsed": false
   }
  },
  {
   "cell_type": "markdown",
   "source": [
    "编写函数判断以参数a,b,c的值为边长能否构成三角形并判断三角形的形状；若是锐角三角形，返回R；若是直角三角形，返回Z；若是钝角三角形，返回D；若三边长不能构成三角形，返回ERROR\n",
    "注: 对三边长排序可用库函数sorted([a,b,c])"
   ],
   "metadata": {
    "collapsed": false
   }
  },
  {
   "cell_type": "code",
   "execution_count": 6,
   "outputs": [
    {
     "name": "stdout",
     "output_type": "stream",
     "text": [
      "Z\n"
     ]
    }
   ],
   "source": [
    "l = input().split(',')\n",
    "a,b,c = float(l[0]),float(l[1]),float(l[2])\n",
    "a,b,c = sorted([a,b,c])\n",
    "if a + b > c:\n",
    "    if a**2 + b**2 > c**2:\n",
    "        print('R')\n",
    "    elif a**2 + b**2 == c**2:\n",
    "        print('Z')\n",
    "    else:\n",
    "        print('D')\n",
    "else:\n",
    "    print('ERROR')"
   ],
   "metadata": {
    "collapsed": false
   }
  },
  {
   "cell_type": "markdown",
   "source": [
    "编写代码判断石头（rock）剪刀（scissors）布（paper）游戏的输赢。\n",
    "一方由用户输入整数表示（rock: 1, scissors: 2, paper: 3），另一方由随机数产生。"
   ],
   "metadata": {
    "collapsed": false
   }
  },
  {
   "cell_type": "code",
   "execution_count": 7,
   "outputs": [
    {
     "name": "stdout",
     "output_type": "stream",
     "text": [
      "draw\n"
     ]
    }
   ],
   "source": [
    "import random\n",
    "random.seed(20220324)\n",
    "\n",
    "def rock_paper_scissors(a,b):\n",
    "    # write your code here...\n",
    "    if a == 1:\n",
    "        if b == 1:\n",
    "            print('draw')\n",
    "        elif b == 2:\n",
    "            print('win')\n",
    "        elif b == 3:\n",
    "            print('lose')\n",
    "    elif a == 2:\n",
    "        if b == 1:\n",
    "            print('lose')\n",
    "        elif b == 2:\n",
    "            print('draw')\n",
    "        elif b == 3:\n",
    "            print('win')\n",
    "    elif a == 3:\n",
    "        if b == 1:\n",
    "            print('win')\n",
    "        elif b == 2:\n",
    "            print('lose')\n",
    "        elif b == 3:\n",
    "            print('draw')\n",
    "\n",
    "a = eval(input())\n",
    "b = random.randint(1,3)\n",
    "rock_paper_scissors(a,b)"
   ],
   "metadata": {
    "collapsed": false
   }
  },
  {
   "cell_type": "markdown",
   "source": [
    "输入以空格分隔的整数序列，判断其是否构成等差数列。\n",
    "注：输入的数字无序。"
   ],
   "metadata": {
    "collapsed": false
   }
  },
  {
   "cell_type": "code",
   "execution_count": 8,
   "outputs": [
    {
     "name": "stdout",
     "output_type": "stream",
     "text": [
      "True\n"
     ]
    }
   ],
   "source": [
    "def check():\n",
    "    ##### write your codes here...\n",
    "    l = [float(x) for x in input().split()]\n",
    "    l.sort()\n",
    "    for i in range(len(l)-1):\n",
    "        if l[i+1] - l[i] != l[1] - l[0]:\n",
    "            return 'False'\n",
    "    return 'True'\n",
    "print(check())"
   ],
   "metadata": {
    "collapsed": false
   }
  },
  {
   "cell_type": "markdown",
   "source": [
    "股票价格存放在列表中，编写程序输出一次交易可获得的最大利润，即在价格最低位买入，在最高位卖出。如股票价格为[224, 236, 247, 258, 219, 225]，224时买入258时卖出最大利润为34。注意先买入才能卖出。"
   ],
   "metadata": {
    "collapsed": false
   }
  },
  {
   "cell_type": "code",
   "execution_count": 9,
   "outputs": [
    {
     "name": "stdout",
     "output_type": "stream",
     "text": [
      "40\n"
     ]
    }
   ],
   "source": [
    "import random\n",
    "def max_profit(stock_price):\n",
    "    # write your code here...\n",
    "    m = 0\n",
    "    for i in range(len(stock_price)):\n",
    "        for j in range(i+1,len(stock_price)):\n",
    "            if stock_price[j] - stock_price[i] > m:\n",
    "                m = stock_price[j] - stock_price[i]\n",
    "    return m\n",
    "random.seed(input())\n",
    "ls = [random.randint(200, 300) for _ in range(10)]\n",
    "print(max_profit(ls))"
   ],
   "metadata": {
    "collapsed": false
   }
  },
  {
   "cell_type": "markdown",
   "source": [
    "从键盘输入n个数字，输出这组数的中位数。\n",
    "中位数：将数据排序后，若数据个数为奇数，则为中间的数；否则为最中间的两个数据的平均值。"
   ],
   "metadata": {
    "collapsed": false
   }
  },
  {
   "cell_type": "code",
   "execution_count": 10,
   "outputs": [
    {
     "name": "stdout",
     "output_type": "stream",
     "text": [
      "97.0\n"
     ]
    }
   ],
   "source": [
    "l = list(map(int,input().split(',')))\n",
    "l.sort()\n",
    "m = len(l)\n",
    "if m % 2 == 0:\n",
    "    z = (l[int(m/2-1)]+l[int(m/2)])/2\n",
    "else:\n",
    "    z = l[int(m/2)]\n",
    "print('%.1f' % (z))"
   ],
   "metadata": {
    "collapsed": false
   }
  },
  {
   "cell_type": "markdown",
   "source": [
    "编写程序，在无排序的一个列表中查找第k大元素。\n",
    "注意：假设k总是有效的，且k值大于等于0，小于等于数组的长度"
   ],
   "metadata": {
    "collapsed": false
   }
  },
  {
   "cell_type": "code",
   "execution_count": 11,
   "outputs": [
    {
     "name": "stdout",
     "output_type": "stream",
     "text": [
      "5\n"
     ]
    }
   ],
   "source": [
    "l = eval(input())\n",
    "l = list(set(l))\n",
    "n = eval(input())\n",
    "l.sort()\n",
    "print(l[-n])"
   ],
   "metadata": {
    "collapsed": false
   }
  },
  {
   "cell_type": "markdown",
   "source": [
    "输入一个英文字符串，统计其中每个英文字母出现的次数。\n",
    "注：大小写字母视为同一字母，转为小写后处理。"
   ],
   "metadata": {
    "collapsed": false
   }
  },
  {
   "cell_type": "code",
   "execution_count": 12,
   "outputs": [
    {
     "name": "stdout",
     "output_type": "stream",
     "text": [
      "{'h': 1, 'i': 1}\n"
     ]
    }
   ],
   "source": [
    "s = input().lower()\n",
    "m = {}\n",
    "for i in s:\n",
    "    if ord(i) >= ord('a') and ord(i) <= ord('z'):\n",
    "        m[i] = m.get(i,0) + 1\n",
    "print(m)"
   ],
   "metadata": {
    "collapsed": false
   }
  },
  {
   "cell_type": "markdown",
   "source": [
    "从键盘输入整数 n（ 1-9 之间），输出1-100 之间的包含 n 或者能被 n 整除的数。\n",
    "提示：字符串类提供find方法如下\n",
    "    S.find(sub) -> int\n",
    "    Return the lowest index in S where substring sub is found.\n",
    "    Return -1 on failure."
   ],
   "metadata": {
    "collapsed": false
   }
  },
  {
   "cell_type": "code",
   "execution_count": 13,
   "outputs": [
    {
     "name": "stdout",
     "output_type": "stream",
     "text": [
      "[6, 12, 16, 18, 24, 26, 30, 36, 42, 46, 48, 54, 56, 60, 61, 62, 63, 64, 65, 66, 67, 68, 69, 72, 76, 78, 84, 86, 90, 96]\n"
     ]
    }
   ],
   "source": [
    "m = eval(input())\n",
    "l = []\n",
    "for i in range(1,101):\n",
    "    if str(i).find(str(m)) != -1 or i % m == 0:\n",
    "        l.append(i)\n",
    "print(l)"
   ],
   "metadata": {
    "collapsed": false
   }
  },
  {
   "cell_type": "markdown",
   "source": [
    "定义函数feb_sum(n)，计算2/1+3/2+5/3+8/5...前n项的和，结果保留两位小数。"
   ],
   "metadata": {
    "collapsed": false
   }
  },
  {
   "cell_type": "code",
   "execution_count": 15,
   "outputs": [
    {
     "name": "stdout",
     "output_type": "stream",
     "text": [
      "32.66\n"
     ]
    }
   ],
   "source": [
    "def feb_sum(n):\n",
    "    # write your code here...\n",
    "    m = 0\n",
    "    a = 1\n",
    "    b = 2\n",
    "    for i in range(n):\n",
    "        m += b/a\n",
    "        t = a + b\n",
    "        a = b\n",
    "        b = t\n",
    "    return m\n",
    "n = int(input())\n",
    "result = feb_sum(n)\n",
    "print(f'{result:.2f}')"
   ],
   "metadata": {
    "collapsed": false
   }
  },
  {
   "cell_type": "markdown",
   "source": [
    "给定正整数 n 和 m, 在 1 至 n 这 n 个数中，取出两个不同的数，使得它们的和是 m 的因子，问有多少种不同的取法"
   ],
   "metadata": {
    "collapsed": false
   }
  },
  {
   "cell_type": "code",
   "execution_count": 16,
   "outputs": [
    {
     "name": "stdout",
     "output_type": "stream",
     "text": [
      "7\n"
     ]
    }
   ],
   "source": [
    "n,m = map(int,input().split(','))\n",
    "count = 0\n",
    "for i in range(1,n):\n",
    "    for j in range(i+1,n+1):\n",
    "        if m % (i + j) == 0:\n",
    "            count += 1\n",
    "\n",
    "print(count)"
   ],
   "metadata": {
    "collapsed": false
   }
  },
  {
   "cell_type": "markdown",
   "source": [
    "ugly number是质因子仅为2、3或5的正整数，如2, 3, 4, 5, 6, 8, 9, 10, 12等均为ugly number。\n",
    "编写程序判断给定的数是否为ugly number"
   ],
   "metadata": {
    "collapsed": false
   }
  },
  {
   "cell_type": "code",
   "execution_count": 17,
   "outputs": [
    {
     "name": "stdout",
     "output_type": "stream",
     "text": [
      "False\n"
     ]
    }
   ],
   "source": [
    "def is_ugly(num):\n",
    "    if num == 0:\n",
    "        return False\n",
    "    for i in [2, 3, 5]:\n",
    "        while num % i == 0:\n",
    "            num /= i\n",
    "    return num == 1\n",
    "x = eval(input())\n",
    "print(is_ugly(x))"
   ],
   "metadata": {
    "collapsed": false
   }
  },
  {
   "cell_type": "markdown",
   "source": [
    "整数到大写字符串的映射规则为：\n",
    "1--A, 2--B, 3--C, ..., 26--Z, 27--AA, 28--AB, ..., 52--AZ ...\n",
    "输入一个正整数，按上述规则将其转换为字符串后输出。"
   ],
   "metadata": {
    "collapsed": false
   }
  },
  {
   "cell_type": "code",
   "execution_count": 18,
   "outputs": [
    {
     "name": "stdout",
     "output_type": "stream",
     "text": [
      "ZZ\n"
     ]
    }
   ],
   "source": [
    "def num2alpha(num):\n",
    "    # write your code here...\n",
    "    l = []\n",
    "    while num != 0:\n",
    "        m = (num - 1) % 26\n",
    "        num = (num - 1) // 26\n",
    "        l.append(chr(ord('A') + m))\n",
    "    l.reverse()\n",
    "    return ''.join(l)\n",
    "if __name__ == \"__main__\":\n",
    "    num = int(input())\n",
    "    print(num2alpha(num))"
   ],
   "metadata": {
    "collapsed": false
   }
  },
  {
   "cell_type": "markdown",
   "source": [
    "使用random库中的randint函数生成500个[1,100]的随机数，找出其中的众数。众数即为序列中出现次数最多的数。\n",
    "randint(a, b)\n",
    "    Return random integer in range [a, b], including both end points."
   ],
   "metadata": {
    "collapsed": false
   }
  },
  {
   "cell_type": "code",
   "execution_count": 21,
   "outputs": [
    {
     "name": "stdout",
     "output_type": "stream",
     "text": [
      "(18, 10)\n"
     ]
    }
   ],
   "source": [
    "import random\n",
    "def rnd_mod():\n",
    "    nums = [random.randint(1,100) for i in range(500)]\n",
    "    setNums = set(nums)\n",
    "    m = 0\n",
    "    m2 = 0\n",
    "    for num in setNums:\n",
    "        if nums.count(num) > m:\n",
    "            m = nums.count(num)\n",
    "            m2 = num\n",
    "    print(\"(%d, %d)\"% (m2,m))\n",
    "random.seed(input())\n",
    "rnd_mod()"
   ],
   "metadata": {
    "collapsed": false
   }
  },
  {
   "cell_type": "markdown",
   "source": [
    "生成100个二维平面上的点 (x, y), -50<=x, y<=50，统计每个象限中的点数，并以元组的形式返回。"
   ],
   "metadata": {
    "collapsed": false
   }
  },
  {
   "cell_type": "code",
   "execution_count": 22,
   "outputs": [
    {
     "name": "stdout",
     "output_type": "stream",
     "text": [
      "(23, 29, 23, 21)\n"
     ]
    }
   ],
   "source": [
    "import random\n",
    "def gen_points():\n",
    "#write your code here...\n",
    "    l = []\n",
    "    for i in range(100):\n",
    "        l.append((random.randint(-50,50),random.randint(-50,50)))\n",
    "    a=b=c=d=0\n",
    "    for x in l:\n",
    "        if x[0] > 0 and x[1] > 0:\n",
    "            a += 1\n",
    "        elif x[0] < 0 and x[1] > 0:\n",
    "            b += 1\n",
    "        elif x[0] < 0 and x[1] < 0:\n",
    "            c += 1\n",
    "        elif x[0] > 0 and x[1] < 0:\n",
    "            d += 1\n",
    "    return (a, b, c, d)\n",
    "random.seed(input())\n",
    "print(gen_points())"
   ],
   "metadata": {
    "collapsed": false
   }
  },
  {
   "cell_type": "markdown",
   "source": [
    "MyComplex表示复数类，定义方法返回复数的字符串表示，并定义表示两个复数加、减、乘的运算。"
   ],
   "metadata": {
    "collapsed": false
   }
  },
  {
   "cell_type": "code",
   "execution_count": 24,
   "outputs": [
    {
     "name": "stdout",
     "output_type": "stream",
     "text": [
      "1+2j\n",
      "-1+5j\n",
      "3-1j\n",
      "-8-1j\n"
     ]
    }
   ],
   "source": [
    "class MyComplex:\n",
    "##### write your codes here...\n",
    "    def __init__(self,sh,xu):\n",
    "        self.sh = sh\n",
    "        self.xu = xu\n",
    "    def __str__(self):\n",
    "        if self.xu < 0:\n",
    "            return f\"{self.sh}{self.xu}j\"\n",
    "        else:\n",
    "            return f\"{self.sh}+{self.xu}j\"\n",
    "    def __add__(self, other):\n",
    "        sh = self.sh + other.sh\n",
    "        xu = self.xu + other.xu\n",
    "        return MyComplex(sh, xu)\n",
    "    def __sub__(self, other):\n",
    "        sh = self.sh - other.sh\n",
    "        xu = self.xu - other.xu\n",
    "        return MyComplex(sh, xu)\n",
    "    def __mul__(self, other):\n",
    "        sh = self.sh * other.sh - self.xu * other.xu\n",
    "        xu = self.xu * other.sh + self.sh * other.xu\n",
    "        return MyComplex(sh, xu)\n",
    "\n",
    "def main():\n",
    "    c1 = MyComplex(1,2)\n",
    "    c2 = MyComplex(-2,3)\n",
    "    for i in range(4):\n",
    "        op = input()\n",
    "        if op == '+':\n",
    "            print(c1+c2)\n",
    "        elif op == '-':\n",
    "            print(c1-c2)\n",
    "        elif op == '*':\n",
    "            print(c1*c2)\n",
    "        else:\n",
    "            print(c1)\n",
    "if __name__==\"__main__\":main()"
   ],
   "metadata": {
    "collapsed": false
   }
  },
  {
   "cell_type": "markdown",
   "source": [
    "定义n维空间的向量类Vector， 使用list类型成员存储向量。编写代码求向量的长度、模，及两个向量的和、内积、夹角余弦和距离等方法。"
   ],
   "metadata": {
    "collapsed": false
   }
  },
  {
   "cell_type": "code",
   "execution_count": 25,
   "outputs": [
    {
     "name": "stdout",
     "output_type": "stream",
     "text": [
      "3.00\n"
     ]
    }
   ],
   "source": [
    "from typing import Iterable\n",
    "class Vector:\n",
    "    def __init__(self, items):\n",
    "        assert isinstance(items, Iterable)\n",
    "        self.vect = list(items)\n",
    "    def __len__(self):\n",
    "    # dimension of vector\n",
    "    # write your code here...\n",
    "        return len(self.vect)\n",
    "    def norm(self):\n",
    "    # sqrt(sigma(x_i ** 2))\n",
    "    # write your code here...\n",
    "        return (sum(map(lambda x:x**2, self.vect)))**(1/2)\n",
    "    def __add__(self, other):\n",
    "    # write your code here...\n",
    "        return [x[0]+x[1] for x in zip(self.vect,other.vect)]\n",
    "    def dot(self, other):\n",
    "    # sigma((x_i*y_i)\n",
    "    # write your code here...\n",
    "        return sum(map(lambda x:x[0]*x[1], zip(self.vect,other.vect)))\n",
    "    def distance(self, other):\n",
    "# sqrt(sigma((x_i-y_i)**2))\n",
    "# write your code here...\n",
    "        return (sum(map(lambda x: (x[0]-x[1])**2, zip(self.vect,other.vect))))**(1/2)\n",
    "    def cosine(self, other):\n",
    "        return self.dot(other)/(self.norm() * other.norm())\n",
    "    def __str__(self):\n",
    "        return str(self.vect)\n",
    "\n",
    "if __name__ == '__main__':\n",
    "    v1 = Vector([1,-2,3])\n",
    "    v2 = Vector([3,0,4,])\n",
    "    i = eval(input())\n",
    "    if i== 1:\n",
    "        print(len(v1))\n",
    "    elif i == 2:\n",
    "        print(f'{v1.norm():.2f}')\n",
    "    elif i == 3:\n",
    "        print(v1 + v2)\n",
    "    elif i == 4:\n",
    "        print(v1.dot(v2))\n",
    "    elif i == 5:\n",
    "        print(f'{Vector.distance(v1, v2):.2f}')"
   ],
   "metadata": {
    "collapsed": false
   }
  },
  {
   "cell_type": "markdown",
   "source": [
    "定义生成器函数fibs(n) 生成Fibnacci数列的前 n项。\n",
    "Fibnacci数列为0, 1, 1, 2, 3, 5, 8, 13, 21, 34, ...，即由前两项和生成当前项。"
   ],
   "metadata": {
    "collapsed": false
   }
  },
  {
   "cell_type": "code",
   "execution_count": 3,
   "outputs": [
    {
     "name": "stdout",
     "output_type": "stream",
     "text": [
      "[0, 1, 1, 2, 3, 5, 8]\n"
     ]
    }
   ],
   "source": [
    "def fibs(n):\n",
    "##### write your codes here ...\n",
    "    a = 1\n",
    "    b = 0\n",
    "    c = 0\n",
    "    for i in range(n):\n",
    "        c = a + b\n",
    "        a = b\n",
    "        b = c\n",
    "        yield a\n",
    "n = eval(input())\n",
    "print(list(fibs(n)))"
   ],
   "metadata": {
    "collapsed": false
   }
  },
  {
   "cell_type": "markdown",
   "source": [
    "定义生成器函数index_iter查找字符串中每个单词首字母的下标。"
   ],
   "metadata": {
    "collapsed": false
   }
  },
  {
   "cell_type": "code",
   "execution_count": 4,
   "outputs": [
    {
     "name": "stdout",
     "output_type": "stream",
     "text": [
      "[0, 7, 10, 17, 22]\n"
     ]
    }
   ],
   "source": [
    "def isDaXie(c):\n",
    "    return ord(c) >= ord('A') and ord(c) <= ord('Z')\n",
    "def index_iter(text):\n",
    "    # write your code here...\n",
    "    for x in range(len(text)):\n",
    "        if isDaXie(text[x]) or text[x-1] == ' ':\n",
    "            yield x\n",
    "s = input()\n",
    "indices = index_iter(s)\n",
    "print(list(indices))"
   ],
   "metadata": {
    "collapsed": false
   }
  },
  {
   "cell_type": "markdown",
   "source": [
    "文件density.txt存放常见物质的密度，格式如下:\n",
    "Material Density State\n",
    "air    0.001293 gas\n",
    "ice    0.920  solid\n",
    "water  1.0    liquid\n",
    "milk   1.03   liquid\n",
    "...\n",
    "定义函数read_densities(filename)读取文件内容，将每种物质及其密度存放在字典中返回，物质状态（state列）不做处理。"
   ],
   "metadata": {
    "collapsed": false
   }
  },
  {
   "cell_type": "code",
   "execution_count": 6,
   "outputs": [
    {
     "name": "stdout",
     "output_type": "stream",
     "text": [
      "{'air': 0.001293, 'ice': 0.92, 'water': 1.0, 'milk': 1.03, 'blood': 1.6, 'steel': 7.8, 'lead': 11.3, 'gold': 19.3}\n",
      "19.3\n"
     ]
    }
   ],
   "source": [
    "def read_densities(filename):\n",
    "    # with open(filename, 'r') as infile:\n",
    "    infile = open(filename, 'r')\n",
    "    lines = infile.readlines()\n",
    "    infile.close()\n",
    "    densities = {}\n",
    "    for line in lines[1:]:\n",
    "        items = line.split()\n",
    "        densities[items[0]] = eval(items[1])\n",
    "    return densities\n",
    "\n",
    "densities = read_densities(r\"density.txt\")\n",
    "material = input()\n",
    "print(densities.get(material,'unknown'))"
   ],
   "metadata": {
    "collapsed": false
   }
  },
  {
   "cell_type": "markdown",
   "source": [
    "编写函数实现敏感词替换：函数sense_words读入源文件source中的英文，将敏感词列表sensitive中出现的英文单词替换为'*'其他单词不变，将替换后的文本输出到文件dest中。"
   ],
   "metadata": {
    "collapsed": false
   }
  },
  {
   "cell_type": "code",
   "execution_count": 7,
   "outputs": [],
   "source": [
    "from random import seed,sample\n",
    "def sense_words(source,sensitive,dest):\n",
    "# write your code here...\n",
    "    with open(source,'r') as infile,open(dest,'w') as outfile:\n",
    "        s = infile.read()\n",
    "        for word in sensitive:\n",
    "            if word in s:\n",
    "                s = s.replace(word,'*')\n",
    "        outfile.write(s)\n",
    "sd = input()\n",
    "seed(sd)\n",
    "sensitive=sample(['walk','dove','cannon','banned'],2)\n",
    "sense_words(\"Blowing in the wind.txt\",sensitive,f'filtered{sd}.txt')"
   ],
   "metadata": {
    "collapsed": false
   }
  }
 ],
 "metadata": {
  "kernelspec": {
   "display_name": "Python 3",
   "language": "python",
   "name": "python3"
  },
  "language_info": {
   "codemirror_mode": {
    "name": "ipython",
    "version": 2
   },
   "file_extension": ".py",
   "mimetype": "text/x-python",
   "name": "python",
   "nbconvert_exporter": "python",
   "pygments_lexer": "ipython2",
   "version": "2.7.6"
  }
 },
 "nbformat": 4,
 "nbformat_minor": 0
}
