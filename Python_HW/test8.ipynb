{
 "cells": [
  {
   "cell_type": "markdown",
   "source": [
    "week 8 high-order func"
   ],
   "metadata": {
    "collapsed": false
   }
  },
  {
   "cell_type": "code",
   "execution_count": 11,
   "outputs": [
    {
     "name": "stdout",
     "output_type": "stream",
     "text": [
      "[124, 126, 128, 132, 135, 162, 168, 175, 184]\n"
     ]
    }
   ],
   "source": [
    "def zhengchu(x,y):\n",
    "    l = []\n",
    "    for i in range(x+1,y):\n",
    "        a = 1\n",
    "        s = str(i)\n",
    "        if len(s) != len(set(list(s))):\n",
    "            continue\n",
    "        for j in s:\n",
    "            j = int(j)\n",
    "            if j == 0 or i % int(j) != 0:\n",
    "                a = 0\n",
    "                break\n",
    "        if a == 1:\n",
    "            l.append(i)\n",
    "    return (l)\n",
    "x,y = eval(input())\n",
    "print(zhengchu(x,y))"
   ],
   "metadata": {
    "collapsed": false
   }
  },
  {
   "cell_type": "code",
   "execution_count": 29,
   "outputs": [
    {
     "name": "stdout",
     "output_type": "stream",
     "text": [
      "不及格：\n",
      " ['Mark', 'Joseph', 'Jesse']\n",
      "单科：\n",
      " [('Mark', 70), ('Dawn', 87), ('Mark', 86)]\n",
      "总分：\n",
      " {'Dawn': 225, 'Alejandro': 207, 'Mark': 192, 'Jesse': 173, 'Joseph': 153}\n"
     ]
    }
   ],
   "source": [
    "from random import gauss,seed,choices\n",
    "\n",
    "sd = input()\n",
    "seed(sd)\n",
    "all_names = ['Karl', 'Kevin', 'Maria', 'Diane', 'Ryan', 'Brian', 'Jane', 'James', 'Laura', 'Anna', 'Joseph', 'Jon', 'Madison', 'Dawn', 'Jesse', 'Taylor', 'Alejandro', 'Caroline', 'Lee', 'Courtney', 'Erik', 'Ian', 'Michael', 'Sean', 'Timothy', 'Frances', 'Samantha', 'Lynn', 'Paul', 'Mark']\n",
    "names = choices(all_names,k=6)\n",
    "scores = [[min(int(gauss(70,15)),100) for _ in range(3)] for _ in range(6)]\n",
    "\n",
    "# write your code here...\n",
    "bujige = []\n",
    "zuigaofen = []\n",
    "fen = {}\n",
    "for i in range(6):\n",
    "    for j in scores[i]:\n",
    "        if j < 60 and names[i] not in bujige:\n",
    "            bujige.append(names[i])\n",
    "for i in range(3):\n",
    "    max = 0\n",
    "    s = 0\n",
    "    for j in range(6):\n",
    "        if scores[j][i] > max:\n",
    "            max = scores[j][i]\n",
    "            s = j\n",
    "    zuigaofen.append(tuple([names[s], max]))\n",
    "for i in range(6):\n",
    "    num = 0\n",
    "    for j in scores[i]:\n",
    "        num += j\n",
    "    fen[names[i]] = num\n",
    "zongfen = sorted(fen.items(),key=lambda x:x[1],reverse=True)\n",
    "print(\"不及格：\")\n",
    "print('',bujige)\n",
    "print('单科：')\n",
    "print('',zuigaofen)\n",
    "print('总分：')\n",
    "print('',dict(zongfen))"
   ],
   "metadata": {
    "collapsed": false
   }
  }
 ],
 "metadata": {
  "kernelspec": {
   "display_name": "Python 3",
   "language": "python",
   "name": "python3"
  },
  "language_info": {
   "codemirror_mode": {
    "name": "ipython",
    "version": 2
   },
   "file_extension": ".py",
   "mimetype": "text/x-python",
   "name": "python",
   "nbconvert_exporter": "python",
   "pygments_lexer": "ipython2",
   "version": "2.7.6"
  }
 },
 "nbformat": 4,
 "nbformat_minor": 0
}
