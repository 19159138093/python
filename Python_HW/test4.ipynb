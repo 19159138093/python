{
 "cells": [
  {
   "cell_type": "code",
   "execution_count": 14,
   "metadata": {},
   "outputs": [
    {
     "name": "stdout",
     "output_type": "stream",
     "text": [
      "False\n"
     ]
    }
   ],
   "source": [
    "#输入以空格分隔的整数序列，判断其是否构成等差数列。\n",
    "#注：输入的数字无序。\n",
    "def check():\n",
    "##### write your codes here...\n",
    "    m = list(map(int,input().split()))\n",
    "    n = sorted(m)\n",
    "    a = n[1]-n[0]\n",
    "    for x in range(len(n)-1):\n",
    "        b = n[x+1]-n[x]\n",
    "        if b != a:\n",
    "            return False\n",
    "    return True\n",
    "print(check())"
   ]
  },
  {
   "cell_type": "code",
   "execution_count": 20,
   "metadata": {},
   "outputs": [
    {
     "name": "stdout",
     "output_type": "stream",
     "text": [
      "73.0\n"
     ]
    }
   ],
   "source": [
    "m = list(map(int,input().split(',')))\n",
    "n = sorted(m)\n",
    "h = n[1:-1]\n",
    "sum = 0\n",
    "for x in h:\n",
    "    sum += x\n",
    "avg = sum/len(h)\n",
    "print('%.1f' % avg)"
   ]
  },
  {
   "cell_type": "code",
   "execution_count": 30,
   "metadata": {},
   "outputs": [
    {
     "name": "stdout",
     "output_type": "stream",
     "text": [
      "44\n",
      "[259, 254, 259, 249, 293, 292, 226, 200, 211, 230]\n"
     ]
    }
   ],
   "source": [
    "import random\n",
    "def max_profit(stock_price):\n",
    "    # write your code here...\n",
    "    maxearn = 0\n",
    "    for i in range(len(stock_price[:-1])):\n",
    "        for j in stock_price[i+1:]:\n",
    "            if (j - stock_price[i]) > maxearn:\n",
    "                maxearn = j - stock_price[i]\n",
    "\n",
    "    return maxearn\n",
    "\n",
    "random.seed(input())\n",
    "ls = [random.randint(200, 300) for _ in range(10)]\n",
    "print(max_profit(ls))"
   ]
  },
  {
   "cell_type": "code",
   "execution_count": 4,
   "metadata": {},
   "outputs": [
    {
     "name": "stdout",
     "output_type": "stream",
     "text": [
      "False\n"
     ]
    }
   ],
   "source": [
    "#输入一个无序列表，判断其是否构成Fabnacci数列，即[0, 1, 1, 2, 3, 5, 8, 13, 21,34, 52], ...\n",
    "def check(ls):\n",
    "# write your code here...\n",
    "    if ls == [0] or ls == [0,1]:\n",
    "        return True\n",
    "    elif len(ls)>2 and ls[0] == 0:\n",
    "        for x in range(len(ls[2:])):\n",
    "            if ls[x+2] != ls[x] + ls[x+1]:\n",
    "                return False\n",
    "        return True\n",
    "    else:\n",
    "        return False\n",
    "ls = eval(input())\n",
    "print(check(sorted(ls)))"
   ]
  },
  {
   "cell_type": "code",
   "execution_count": 10,
   "metadata": {},
   "outputs": [
    {
     "name": "stdout",
     "output_type": "stream",
     "text": [
      "[8, '*', '*', 7, '*', '*', '*', 3, 0, 10, 9]\n"
     ]
    }
   ],
   "source": [
    "def check(parens):\n",
    "    # write your code here...\n",
    "    p = list(parens)\n",
    "    q = []\n",
    "    m = []\n",
    "    m1 = []\n",
    "    m2 = []\n",
    "    for x in range(len(p)):\n",
    "        if p[x] == '(':\n",
    "            q.append(p[x])\n",
    "            m.append(x)\n",
    "        elif p[x] == ')':\n",
    "            q.pop()\n",
    "            m1.append(m[-1])\n",
    "            m.pop()\n",
    "            m2.append(x)\n",
    "    if len(q) != 0:\n",
    "        return 'error'\n",
    "    n = []\n",
    "    for x in range(len(p)):\n",
    "        if x in m1:\n",
    "            n.append(m2[m1.index(x)])\n",
    "        elif x in m2:\n",
    "            n.append(m1[m2.index(x)])\n",
    "        else:\n",
    "            n.append(\"*\")\n",
    "    return n\n",
    "parens = input()\n",
    "print(check(parens))\n"
   ]
  }
 ],
 "metadata": {
  "kernelspec": {
   "display_name": "Python 3.10.2 64-bit",
   "language": "python",
   "name": "python3"
  },
  "language_info": {
   "codemirror_mode": {
    "name": "ipython",
    "version": 3
   },
   "file_extension": ".py",
   "mimetype": "text/x-python",
   "name": "python",
   "nbconvert_exporter": "python",
   "pygments_lexer": "ipython3",
   "version": "3.10.2"
  },
  "orig_nbformat": 4,
  "vscode": {
   "interpreter": {
    "hash": "cd28e3f04655be0cf2c3c59ecb10ad5a40a38387297ad6d3bb40e21494cdd4b4"
   }
  }
 },
 "nbformat": 4,
 "nbformat_minor": 2
}
